{
 "cells": [
  {
   "cell_type": "code",
   "execution_count": 324,
   "metadata": {
    "collapsed": true
   },
   "outputs": [],
   "source": [
    "%matplotlib inline\n",
    "\n",
    "import os\n",
    "import sys\n",
    "nb_dir = os.path.split(os.getcwd())[0]\n",
    "project_dir = os.path.join(nb_dir, os.pardir)\n",
    "\n",
    "if project_dir not in sys.path:\n",
    "   sys.path.append(project_dir)\n",
    "\n",
    "from src import corpus"
   ]
  },
  {
   "cell_type": "markdown",
   "metadata": {},
   "source": [
    "# Load up the songs"
   ]
  },
  {
   "cell_type": "code",
   "execution_count": 325,
   "metadata": {
    "collapsed": false
   },
   "outputs": [],
   "source": [
    "songs = corpus.load_songs(corpus.processed_data_dirs()[0])"
   ]
  },
  {
   "cell_type": "markdown",
   "metadata": {},
   "source": [
    "# Add rank differential"
   ]
  },
  {
   "cell_type": "code",
   "execution_count": 326,
   "metadata": {
    "collapsed": false
   },
   "outputs": [],
   "source": [
    "for song in songs:\n",
    "    song['rank_differential'] = (int(song['rank_this_week']) - int(song['rank_last_week'])) / 100"
   ]
  },
  {
   "cell_type": "markdown",
   "metadata": {},
   "source": [
    "# NLTK default english stop words"
   ]
  },
  {
   "cell_type": "code",
   "execution_count": 327,
   "metadata": {
    "collapsed": false
   },
   "outputs": [
    {
     "name": "stdout",
     "output_type": "stream",
     "text": [
      "['i', 'me', 'my', 'myself', 'we', 'our', 'ours', 'ourselves', 'you', 'your', 'yours', 'yourself', 'yourselves', 'he', 'him', 'his', 'himself', 'she', 'her', 'hers', 'herself', 'it', 'its', 'itself', 'they', 'them', 'their', 'theirs', 'themselves', 'what', 'which', 'who', 'whom', 'this', 'that', 'these', 'those', 'am', 'is', 'are', 'was', 'were', 'be', 'been', 'being', 'have', 'has', 'had', 'having', 'do', 'does', 'did', 'doing', 'a', 'an', 'the', 'and', 'but', 'if', 'or', 'because', 'as', 'until', 'while', 'of', 'at', 'by', 'for', 'with', 'about', 'against', 'between', 'into', 'through', 'during', 'before', 'after', 'above', 'below', 'to', 'from', 'up', 'down', 'in', 'out', 'on', 'off', 'over', 'under', 'again', 'further', 'then', 'once', 'here', 'there', 'when', 'where', 'why', 'how', 'all', 'any', 'both', 'each', 'few', 'more', 'most', 'other', 'some', 'such', 'no', 'nor', 'not', 'only', 'own', 'same', 'so', 'than', 'too', 'very', 's', 't', 'can', 'will', 'just', 'don', 'should', 'now', 'd', 'll', 'm', 'o', 're', 've', 'y', 'ain', 'aren', 'couldn', 'didn', 'doesn', 'hadn', 'hasn', 'haven', 'isn', 'ma', 'mightn', 'mustn', 'needn', 'shan', 'shouldn', 'wasn', 'weren', 'won', 'wouldn']\n"
     ]
    }
   ],
   "source": [
    "from nltk.corpus import stopwords\n",
    "print(stopwords.words('english'))"
   ]
  },
  {
   "cell_type": "markdown",
   "metadata": {},
   "source": [
    "# Custom stop words list"
   ]
  },
  {
   "cell_type": "code",
   "execution_count": 328,
   "metadata": {
    "collapsed": false
   },
   "outputs": [
    {
     "name": "stdout",
     "output_type": "stream",
     "text": [
      "['a', 'about', 'above', 'across', 'after', 'again', 'against', 'all', 'almost', 'alone', 'along', 'already', 'also', 'although', 'always', 'among', 'an', 'and', 'another', 'any', 'anybody', 'anyone', 'anything', 'anywhere', 'are', 'area', 'areas', 'around', 'as', 'ask', 'asked', 'asking', 'asks', 'at', 'away', 'b', 'back', 'backed', 'backing', 'backs', 'be', 'became', 'because', 'become', 'becomes', 'been', 'before', 'began', 'behind', 'being', 'beings', 'best', 'better', 'between', 'big', 'both', 'but', 'by', 'c', 'came', 'can', 'cannot', 'case', 'cases', 'certain', 'certainly', 'clear', 'clearly', 'come', 'could', 'd', 'did', 'differ', 'different', 'differently', 'do', 'does', 'done', 'down', 'down', 'downed', 'downing', 'downs', 'during', 'e', 'each', 'early', 'either', 'end', 'ended', 'ending', 'ends', 'enough', 'even', 'evenly', 'ever', 'every', 'everybody', 'everyone', 'everything', 'everywhere', 'f', 'face', 'faces', 'fact', 'facts', 'far', 'felt', 'few', 'find', 'finds', 'first', 'for', 'four', 'from', 'full', 'fully', 'further', 'furthered', 'furthering', 'furthers', 'g', 'gave', 'general', 'generally', 'get', 'gets', 'give', 'given', 'gives', 'go', 'going', 'good', 'goods', 'got', 'great', 'greater', 'greatest', 'group', 'grouped', 'grouping', 'groups', 'h', 'had', 'has', 'have', 'having', 'he', 'her', 'here', 'herself', 'high', 'high', 'high', 'higher', 'highest', 'him', 'himself', 'his', 'how', 'however', 'i', 'im', 'if', 'important', 'in', 'interest', 'interested', 'interesting', 'interests', 'into', 'is', 'it', 'its', 'itself', 'j', 'just', 'k', 'keep', 'keeps', 'kind', 'knew', 'know', 'known', 'knows', 'l', 'large', 'largely', 'last', 'later', 'latest', 'least', 'less', 'let', 'lets', 'like', 'likely', 'long', 'longer', 'longest', 'm', 'made', 'make', 'making', 'man', 'many', 'may', 'me', 'member', 'members', 'men', 'might', 'more', 'most', 'mostly', 'mr', 'mrs', 'much', 'must', 'my', 'myself', 'n', 'necessary', 'need', 'needed', 'needing', 'needs', 'never', 'new', 'new', 'newer', 'newest', 'next', 'no', 'nobody', 'non', 'noone', 'not', 'nothing', 'now', 'nowhere', 'number', 'numbers', 'o', 'oh', 'of', 'off', 'often', 'old', 'older', 'oldest', 'on', 'once', 'one', 'only', 'open', 'opened', 'opening', 'opens', 'or', 'order', 'ordered', 'ordering', 'orders', 'other', 'others', 'our', 'out', 'over', 'p', 'part', 'parted', 'parting', 'parts', 'per', 'perhaps', 'place', 'places', 'point', 'pointed', 'pointing', 'points', 'possible', 'present', 'presented', 'presenting', 'presents', 'problem', 'problems', 'put', 'puts', 'q', 'quite', 'r', 'rather', 'really', 'right', 'right', 'room', 'rooms', 's', 'said', 'same', 'saw', 'say', 'says', 'second', 'seconds', 'see', 'seem', 'seemed', 'seeming', 'seems', 'sees', 'several', 'shall', 'she', 'should', 'show', 'showed', 'showing', 'shows', 'side', 'sides', 'since', 'small', 'smaller', 'smallest', 'so', 'some', 'somebody', 'someone', 'something', 'somewhere', 'state', 'states', 'still', 'still', 'such', 'sure', 't', 'take', 'taken', 'than', 'that', 'the', 'their', 'them', 'then', 'there', 'therefore', 'these', 'they', 'thing', 'things', 'think', 'thinks', 'this', 'those', 'though', 'thought', 'thoughts', 'three', 'through', 'thus', 'to', 'today', 'together', 'too', 'took', 'toward', 'turn', 'turned', 'turning', 'turns', 'two', 'u', 'under', 'until', 'up', 'upon', 'us', 'use', 'used', 'uses', 'v', 'very', 'w', 'want', 'wanted', 'wanting', 'wants', 'was', 'way', 'ways', 'we', 'well', 'wells', 'went', 'were', 'what', 'when', 'where', 'whether', 'which', 'while', 'who', 'whole', 'whose', 'why', 'will', 'with', 'within', 'without', 'work', 'worked', 'working', 'works', 'would', 'x', 'y', 'year', 'years', 'yet', 'you', 'young', 'younger', 'youngest', 'your', 'youre', 'yours', 'z']\n"
     ]
    }
   ],
   "source": [
    "print(corpus.stop_words())"
   ]
  },
  {
   "cell_type": "markdown",
   "metadata": {},
   "source": [
    "# Get normalized frequency of words\n",
    "\n",
    "Look at all distributions of words in a song individually and normalize by the number of songs. This is a better approach than looking at each word as a total bag of words in all songs. Some of these songs have super repitive words in one song which throws off the overall distribution."
   ]
  },
  {
   "cell_type": "code",
   "execution_count": 329,
   "metadata": {
    "collapsed": false
   },
   "outputs": [],
   "source": [
    "import string\n",
    "import unicodedata\n",
    "import sys\n",
    "\n",
    "from nltk.corpus import stopwords\n",
    "from nltk.tokenize import word_tokenize\n",
    "from nltk import FreqDist\n",
    "\n",
    "import pandas as pd\n",
    "\n",
    "punc_tbl = dict.fromkeys(i for i in range(sys.maxunicode)\n",
    "                      if unicodedata.category(chr(i)).startswith('P'))\n",
    "\n",
    "def remove_punctuation(text):\n",
    "    return text.translate(punc_tbl)\n",
    "\n",
    "def remove_stop_words(words):\n",
    "    \"\"\"Remove stop words from a list of words.\"\"\"\n",
    "    wl = []    \n",
    "    stop_words = corpus.stop_words()\n",
    "    for word in words:\n",
    "        word = word.lower()\n",
    "        if word not in stop_words:\n",
    "            wl.append(word)\n",
    "    \n",
    "    return wl\n",
    "\n",
    "normalized_word_frequencies = {}\n",
    "\n",
    "for song in songs:\n",
    "    song['word_lyrics'] = remove_stop_words(word_tokenize(remove_punctuation(song['lyrics'])))    \n",
    "    dist = FreqDist(song['word_lyrics'])\n",
    "\n",
    "    for w in dist:\n",
    "        if not w in normalized_word_frequencies:\n",
    "            normalized_word_frequencies[w] = 0\n",
    "\n",
    "        normalized_word_frequencies[w] = normalized_word_frequencies[w] + dist.freq(w)\n",
    "        \n",
    "for w, v in normalized_word_frequencies.items():\n",
    "    normalized_word_frequencies[w] = v / len(songs)"
   ]
  },
  {
   "cell_type": "markdown",
   "metadata": {},
   "source": [
    "# Plot the word distributions"
   ]
  },
  {
   "cell_type": "code",
   "execution_count": 330,
   "metadata": {
    "collapsed": false
   },
   "outputs": [
    {
     "data": {
      "text/plain": [
       "<matplotlib.text.Text at 0x7fb2be592240>"
      ]
     },
     "execution_count": 330,
     "metadata": {},
     "output_type": "execute_result"
    },
    {
     "data": {
      "image/png": "[encoded data removed]",
      "text/plain": [
       "<matplotlib.figure.Figure at 0x7fb2be6aca58>"
      ]
     },
     "metadata": {},
     "output_type": "display_data"
    }
   ],
   "source": [
    "df = pd.DataFrame.from_dict(normalized_word_frequencies, orient='index')\n",
    "word_freq = df.nlargest(25, 0).plot(kind='bar', title='Normalized Word Frequency', legend=False)\n",
    "word_freq.set_xlabel(\"Word\")\n",
    "word_freq.set_ylabel(\"Distribution\")"
   ]
  },
  {
   "cell_type": "markdown",
   "metadata": {},
   "source": [
    "# Normalize and stem words"
   ]
  },
  {
   "cell_type": "code",
   "execution_count": 331,
   "metadata": {
    "collapsed": true
   },
   "outputs": [],
   "source": [
    "from nltk.stem import PorterStemmer\n",
    "\n",
    "def stem_words(words):\n",
    "    stemmer = PorterStemmer()\n",
    "    return [stemmer.stem(w) for w in words]\n",
    "\n",
    "normalized_word_frequencies = {}\n",
    "\n",
    "for song in songs:\n",
    "    song['word_lyrics'] = stem_words(remove_stop_words(word_tokenize(remove_punctuation(song['lyrics']))))\n",
    "    dist = FreqDist(song['word_lyrics'])\n",
    "\n",
    "    for w in dist:\n",
    "        if not w in normalized_word_frequencies:\n",
    "            normalized_word_frequencies[w] = 0\n",
    "\n",
    "        normalized_word_frequencies[w] = normalized_word_frequencies[w] + dist.freq(w)\n",
    "        \n",
    "for w, v in normalized_word_frequencies.items():\n",
    "    normalized_word_frequencies[w] = v / len(songs)"
   ]
  },
  {
   "cell_type": "code",
   "execution_count": 332,
   "metadata": {
    "collapsed": false
   },
   "outputs": [
    {
     "data": {
      "text/plain": [
       "<matplotlib.text.Text at 0x7fb2be556ba8>"
      ]
     },
     "execution_count": 332,
     "metadata": {},
     "output_type": "execute_result"
    },
    {
     "data": {
      "image/png": "[encoded data removed]",
      "text/plain": [
       "<matplotlib.figure.Figure at 0x7fb2be554c88>"
      ]
     },
     "metadata": {},
     "output_type": "display_data"
    }
   ],
   "source": [
    "df = pd.DataFrame.from_dict(normalized_word_frequencies, orient='index')\n",
    "word_freq = df.nlargest(25, 0).plot(kind='bar')\n",
    "word_freq.set_xlabel(\"Word\")\n",
    "word_freq.set_ylabel(\"Distribution\")"
   ]
  },
  {
   "cell_type": "markdown",
   "metadata": {},
   "source": [
    "# Stemmed and normalized swear word frequency"
   ]
  },
  {
   "cell_type": "code",
   "execution_count": 333,
   "metadata": {
    "collapsed": false
   },
   "outputs": [],
   "source": [
    "swear_words = set(stem_words(corpus.swear_words()))\n",
    "\n",
    "normalized_word_frequencies = {}\n",
    "\n",
    "for song in songs:\n",
    "    song['word_lyrics'] = stem_words(remove_stop_words(word_tokenize(remove_punctuation(song['lyrics']))))\n",
    "    dist = FreqDist(song['word_lyrics'])\n",
    "\n",
    "    for sw in swear_words:\n",
    "        if not sw in normalized_word_frequencies:\n",
    "            normalized_word_frequencies[sw] = 0\n",
    "\n",
    "        normalized_word_frequencies[sw] = normalized_word_frequencies[sw] + dist.freq(sw)\n",
    "        \n",
    "for w, v in normalized_word_frequencies.items():\n",
    "    normalized_word_frequencies[w] = v / len(songs)"
   ]
  },
  {
   "cell_type": "code",
   "execution_count": 334,
   "metadata": {
    "collapsed": false
   },
   "outputs": [
    {
     "data": {
      "text/plain": [
       "<matplotlib.text.Text at 0x7fb2be362898>"
      ]
     },
     "execution_count": 334,
     "metadata": {},
     "output_type": "execute_result"
    },
    {
     "data": {
      "image/png": "[encoded data removed]",
      "text/plain": [
       "<matplotlib.figure.Figure at 0x7fb2be54e1d0>"
      ]
     },
     "metadata": {},
     "output_type": "display_data"
    }
   ],
   "source": [
    "df = pd.DataFrame.from_dict(normalized_word_frequencies, orient='index')\n",
    "word_freq = df.nlargest(10, 0).plot(kind='bar', title='Swear Word Frequency', legend=False)\n",
    "word_freq.set_xlabel(\"Word\")\n",
    "word_freq.set_ylabel(\"Distribution\")"
   ]
  },
  {
   "cell_type": "markdown",
   "metadata": {},
   "source": [
    "# Sentiment analysis with Vader"
   ]
  },
  {
   "cell_type": "code",
   "execution_count": 335,
   "metadata": {
    "collapsed": false
   },
   "outputs": [
    {
     "name": "stdout",
     "output_type": "stream",
     "text": [
      "{'negative': 0.08538988774533011, 'positive': 0.11905898567659678, 'neutral': 0.7955515403012989, 'compound': 0.03935044543716692}\n"
     ]
    }
   ],
   "source": [
    "from nltk.sentiment.vader import SentimentIntensityAnalyzer\n",
    "from nltk.tokenize import sent_tokenize\n",
    "\n",
    "\n",
    "def split_sentences(text):\n",
    "    sentences = []\n",
    "    for sentence in text.split('\\n'):\n",
    "        sentence = sentence.strip()\n",
    "        \n",
    "        if sentence:\n",
    "            sentences.append(sentence)\n",
    "\n",
    "    return sentences\n",
    "\n",
    "\n",
    "def sentiment_for_song(text):\n",
    "    sid = SentimentIntensityAnalyzer()\n",
    "\n",
    "    # can't use sent_tokenize with lyrics... just split on newline\n",
    "    sentences = split_sentences(text)\n",
    "    total_ss = {\n",
    "        'negative': 0,\n",
    "        'positive': 0,\n",
    "        'neutral': 0,\n",
    "        'compound': 0\n",
    "    }\n",
    "\n",
    "    for sentence in sentences:\n",
    "        ss = sid.polarity_scores(sentence)\n",
    "        total_ss['negative'] = total_ss['negative'] + ss['neg']\n",
    "        total_ss['positive'] = total_ss['positive'] + ss['pos']\n",
    "        total_ss['neutral'] = total_ss['neutral'] + ss['neu']\n",
    "        total_ss['compound'] = total_ss['compound'] + ss['compound']\n",
    "        \n",
    "    for key in total_ss:\n",
    "        total_ss[key] = total_ss[key] / len(sentences)\n",
    "        \n",
    "    return total_ss\n",
    "\n",
    "all_sentiments = {}\n",
    "for song in songs:\n",
    "    sentiments = sentiment_for_song(song['lyrics'])\n",
    "\n",
    "    # add sentiment to song data\n",
    "    song['positive_sentiment'] = sentiments['positive']\n",
    "    song['negative_sentiment'] = sentiments['negative']\n",
    "    song['neutral_sentiment'] = sentiments['neutral']\n",
    "    \n",
    "    for key in sentiments:\n",
    "        if key not in all_sentiments:\n",
    "            all_sentiments[key] = 0\n",
    "            \n",
    "        all_sentiments[key] = all_sentiments[key] + sentiments[key]\n",
    "\n",
    "# normalize for number of songs\n",
    "for key in all_sentiments:\n",
    "    all_sentiments[key] = all_sentiments[key] / len(songs)\n",
    "\n",
    "print(all_sentiments)"
   ]
  },
  {
   "cell_type": "markdown",
   "metadata": {},
   "source": [
    "# Plot sentiments"
   ]
  },
  {
   "cell_type": "code",
   "execution_count": 336,
   "metadata": {
    "collapsed": false
   },
   "outputs": [
    {
     "data": {
      "text/plain": [
       "<matplotlib.text.Text at 0x7fb2be45c828>"
      ]
     },
     "execution_count": 336,
     "metadata": {},
     "output_type": "execute_result"
    },
    {
     "data": {
      "image/png": "[encoded data removed]",
      "text/plain": [
       "<matplotlib.figure.Figure at 0x7fb2c160c198>"
      ]
     },
     "metadata": {},
     "output_type": "display_data"
    }
   ],
   "source": [
    "all_sentiments.pop('compound', 0)\n",
    "df = pd.DataFrame.from_dict(all_sentiments, orient='index')\n",
    "sent_plot = df.nlargest(10, 0).plot(kind='bar', title='Sentiment Distribution', legend=False)\n",
    "sent_plot.set_xlabel(\"Sentiment\")\n",
    "sent_plot.set_ylabel(\"Distribution\")"
   ]
  },
  {
   "cell_type": "markdown",
   "metadata": {},
   "source": [
    "# 5 most negative songs"
   ]
  },
  {
   "cell_type": "code",
   "execution_count": 337,
   "metadata": {
    "collapsed": false
   },
   "outputs": [
    {
     "data": {
      "text/html": [
       "<div>\n",
       "<table border=\"1\" class=\"dataframe\">\n",
       "  <thead>\n",
       "    <tr style=\"text-align: right;\">\n",
       "      <th></th>\n",
       "      <th>artist</th>\n",
       "      <th>lyrics</th>\n",
       "      <th>lyrics_file</th>\n",
       "      <th>lyrics_file_path</th>\n",
       "      <th>lyrics_source</th>\n",
       "      <th>negative_sentiment</th>\n",
       "      <th>neutral_sentiment</th>\n",
       "      <th>positive_sentiment</th>\n",
       "      <th>rank_differential</th>\n",
       "      <th>rank_last_week</th>\n",
       "      <th>rank_this_week</th>\n",
       "      <th>title</th>\n",
       "      <th>word_lyrics</th>\n",
       "    </tr>\n",
       "  </thead>\n",
       "  <tbody>\n",
       "    <tr>\n",
       "      <th>18</th>\n",
       "      <td>Jon Bellion</td>\n",
       "      <td>Low low low low low\\nLow low low low low low l...</td>\n",
       "      <td>jon-bellion-all-time-low.txt</td>\n",
       "      <td>/media/sf_D_DRIVE/jupyter/tyler/billboard_hot_...</td>\n",
       "      <td>songlyrics.com</td>\n",
       "      <td>0.648732</td>\n",
       "      <td>0.314293</td>\n",
       "      <td>0.036976</td>\n",
       "      <td>-0.03</td>\n",
       "      <td>22</td>\n",
       "      <td>19</td>\n",
       "      <td>All Time Low</td>\n",
       "      <td>[low, low, low, low, low, low, low, low, low, ...</td>\n",
       "    </tr>\n",
       "    <tr>\n",
       "      <th>64</th>\n",
       "      <td>Auli'i Cravalho</td>\n",
       "      <td>I got this feeling on the summer day when you ...</td>\n",
       "      <td>aulii-cravalho-how-far-ill-go.txt</td>\n",
       "      <td>/media/sf_D_DRIVE/jupyter/tyler/billboard_hot_...</td>\n",
       "      <td>songlyrics.com</td>\n",
       "      <td>0.342167</td>\n",
       "      <td>0.566556</td>\n",
       "      <td>0.091278</td>\n",
       "      <td>-0.02</td>\n",
       "      <td>67</td>\n",
       "      <td>65</td>\n",
       "      <td>How Far I'll Go</td>\n",
       "      <td>[feel, summer, day, gone, crash, car, bridg, w...</td>\n",
       "    </tr>\n",
       "    <tr>\n",
       "      <th>88</th>\n",
       "      <td>Marshmello</td>\n",
       "      <td>I'm so alone\\nNothing feels like home\\nI'm so ...</td>\n",
       "      <td>marshmello-alone.txt</td>\n",
       "      <td>/media/sf_D_DRIVE/jupyter/tyler/billboard_hot_...</td>\n",
       "      <td>songlyrics.com</td>\n",
       "      <td>0.267000</td>\n",
       "      <td>0.642000</td>\n",
       "      <td>0.091000</td>\n",
       "      <td>0.29</td>\n",
       "      <td>60</td>\n",
       "      <td>89</td>\n",
       "      <td>Alone</td>\n",
       "      <td>[feel, home, tri, home, feel, home, tri, home,...</td>\n",
       "    </tr>\n",
       "    <tr>\n",
       "      <th>98</th>\n",
       "      <td>Ugly God</td>\n",
       "      <td>I drip on your bitch like water\\nI splash on y...</td>\n",
       "      <td>ugly-god-water.txt</td>\n",
       "      <td>/media/sf_D_DRIVE/jupyter/tyler/billboard_hot_...</td>\n",
       "      <td>songlyrics.com</td>\n",
       "      <td>0.266914</td>\n",
       "      <td>0.551886</td>\n",
       "      <td>0.181229</td>\n",
       "      <td>0.19</td>\n",
       "      <td>80</td>\n",
       "      <td>99</td>\n",
       "      <td>Water</td>\n",
       "      <td>[drip, bitch, water, splash, bitch, water, fee...</td>\n",
       "    </tr>\n",
       "    <tr>\n",
       "      <th>60</th>\n",
       "      <td>21 Savage &amp; Metro Boomin</td>\n",
       "      <td>\\nYoung Savage, why you trappin' so hard?\\nWhy...</td>\n",
       "      <td>21-savage-metro-boomin-no-heart.txt</td>\n",
       "      <td>/media/sf_D_DRIVE/jupyter/tyler/billboard_hot_...</td>\n",
       "      <td>songlyrics.com</td>\n",
       "      <td>0.219706</td>\n",
       "      <td>0.716279</td>\n",
       "      <td>0.064000</td>\n",
       "      <td>0.11</td>\n",
       "      <td>50</td>\n",
       "      <td>61</td>\n",
       "      <td>No Heart</td>\n",
       "      <td>[savag, trappin, hard, nigga, cappin, hard, 12...</td>\n",
       "    </tr>\n",
       "  </tbody>\n",
       "</table>\n",
       "</div>"
      ],
      "text/plain": [
       "                      artist  \\\n",
       "18               Jon Bellion   \n",
       "64           Auli'i Cravalho   \n",
       "88                Marshmello   \n",
       "98                  Ugly God   \n",
       "60  21 Savage & Metro Boomin   \n",
       "\n",
       "                                               lyrics  \\\n",
       "18  Low low low low low\\nLow low low low low low l...   \n",
       "64  I got this feeling on the summer day when you ...   \n",
       "88  I'm so alone\\nNothing feels like home\\nI'm so ...   \n",
       "98  I drip on your bitch like water\\nI splash on y...   \n",
       "60  \\nYoung Savage, why you trappin' so hard?\\nWhy...   \n",
       "\n",
       "                            lyrics_file  \\\n",
       "18         jon-bellion-all-time-low.txt   \n",
       "64    aulii-cravalho-how-far-ill-go.txt   \n",
       "88                 marshmello-alone.txt   \n",
       "98                   ugly-god-water.txt   \n",
       "60  21-savage-metro-boomin-no-heart.txt   \n",
       "\n",
       "                                     lyrics_file_path   lyrics_source  \\\n",
       "18  /media/sf_D_DRIVE/jupyter/tyler/billboard_hot_...  songlyrics.com   \n",
       "64  /media/sf_D_DRIVE/jupyter/tyler/billboard_hot_...  songlyrics.com   \n",
       "88  /media/sf_D_DRIVE/jupyter/tyler/billboard_hot_...  songlyrics.com   \n",
       "98  /media/sf_D_DRIVE/jupyter/tyler/billboard_hot_...  songlyrics.com   \n",
       "60  /media/sf_D_DRIVE/jupyter/tyler/billboard_hot_...  songlyrics.com   \n",
       "\n",
       "    negative_sentiment  neutral_sentiment  positive_sentiment  \\\n",
       "18            0.648732           0.314293            0.036976   \n",
       "64            0.342167           0.566556            0.091278   \n",
       "88            0.267000           0.642000            0.091000   \n",
       "98            0.266914           0.551886            0.181229   \n",
       "60            0.219706           0.716279            0.064000   \n",
       "\n",
       "    rank_differential rank_last_week rank_this_week            title  \\\n",
       "18              -0.03             22             19     All Time Low   \n",
       "64              -0.02             67             65  How Far I'll Go   \n",
       "88               0.29             60             89            Alone   \n",
       "98               0.19             80             99            Water   \n",
       "60               0.11             50             61         No Heart   \n",
       "\n",
       "                                          word_lyrics  \n",
       "18  [low, low, low, low, low, low, low, low, low, ...  \n",
       "64  [feel, summer, day, gone, crash, car, bridg, w...  \n",
       "88  [feel, home, tri, home, feel, home, tri, home,...  \n",
       "98  [drip, bitch, water, splash, bitch, water, fee...  \n",
       "60  [savag, trappin, hard, nigga, cappin, hard, 12...  "
      ]
     },
     "execution_count": 337,
     "metadata": {},
     "output_type": "execute_result"
    }
   ],
   "source": [
    "songs_df = pd.DataFrame.from_dict(songs)\n",
    "songs_df.nlargest(5, 'negative_sentiment')"
   ]
  },
  {
   "cell_type": "markdown",
   "metadata": {},
   "source": [
    "# 5 most positive songs"
   ]
  },
  {
   "cell_type": "code",
   "execution_count": 338,
   "metadata": {
    "collapsed": false
   },
   "outputs": [
    {
     "data": {
      "text/html": [
       "<div>\n",
       "<table border=\"1\" class=\"dataframe\">\n",
       "  <thead>\n",
       "    <tr style=\"text-align: right;\">\n",
       "      <th></th>\n",
       "      <th>artist</th>\n",
       "      <th>lyrics</th>\n",
       "      <th>lyrics_file</th>\n",
       "      <th>lyrics_file_path</th>\n",
       "      <th>lyrics_source</th>\n",
       "      <th>negative_sentiment</th>\n",
       "      <th>neutral_sentiment</th>\n",
       "      <th>positive_sentiment</th>\n",
       "      <th>rank_differential</th>\n",
       "      <th>rank_last_week</th>\n",
       "      <th>rank_this_week</th>\n",
       "      <th>title</th>\n",
       "      <th>word_lyrics</th>\n",
       "    </tr>\n",
       "  </thead>\n",
       "  <tbody>\n",
       "    <tr>\n",
       "      <th>37</th>\n",
       "      <td>Sia Featuring Kendrick Lamar</td>\n",
       "      <td>Uh-oh, running out of breath, but I\\nOh, I, I ...</td>\n",
       "      <td>sia-featuring-kendrick-lamar-the-greatest.txt</td>\n",
       "      <td>/media/sf_D_DRIVE/jupyter/tyler/billboard_hot_...</td>\n",
       "      <td>songlyrics.com</td>\n",
       "      <td>0.014704</td>\n",
       "      <td>0.579225</td>\n",
       "      <td>0.406085</td>\n",
       "      <td>-0.01</td>\n",
       "      <td>39</td>\n",
       "      <td>38</td>\n",
       "      <td>The Greatest</td>\n",
       "      <td>[uhoh, run, breath, stamina, uhoh, run, close,...</td>\n",
       "    </tr>\n",
       "    <tr>\n",
       "      <th>32</th>\n",
       "      <td>John Legend</td>\n",
       "      <td>Pulling me further, further than I've been bef...</td>\n",
       "      <td>john-legend-love-me-now.txt</td>\n",
       "      <td>/media/sf_D_DRIVE/jupyter/tyler/billboard_hot_...</td>\n",
       "      <td>songlyrics.com</td>\n",
       "      <td>0.059218</td>\n",
       "      <td>0.641345</td>\n",
       "      <td>0.299418</td>\n",
       "      <td>0.02</td>\n",
       "      <td>31</td>\n",
       "      <td>33</td>\n",
       "      <td>Love Me Now</td>\n",
       "      <td>[pull, ive, stronger, shake, core, dont, what,...</td>\n",
       "    </tr>\n",
       "    <tr>\n",
       "      <th>34</th>\n",
       "      <td>Little Big Town</td>\n",
       "      <td>I know I'm probably better off on my own\\nThan...</td>\n",
       "      <td>little-big-town-better-man.txt</td>\n",
       "      <td>/media/sf_D_DRIVE/jupyter/tyler/billboard_hot_...</td>\n",
       "      <td>songlyrics.com</td>\n",
       "      <td>0.044571</td>\n",
       "      <td>0.659024</td>\n",
       "      <td>0.296286</td>\n",
       "      <td>-0.06</td>\n",
       "      <td>41</td>\n",
       "      <td>35</td>\n",
       "      <td>Better Man</td>\n",
       "      <td>[probabl, own, love, didnt, perman, damag, wis...</td>\n",
       "    </tr>\n",
       "    <tr>\n",
       "      <th>90</th>\n",
       "      <td>John Mayer</td>\n",
       "      <td>\\nIt's a Friday, we finally made it\\nI can't b...</td>\n",
       "      <td>john-mayer-love-on-the-weekend.txt</td>\n",
       "      <td>/media/sf_D_DRIVE/jupyter/tyler/billboard_hot_...</td>\n",
       "      <td>songlyrics.com</td>\n",
       "      <td>0.028432</td>\n",
       "      <td>0.684568</td>\n",
       "      <td>0.287027</td>\n",
       "      <td>0.91</td>\n",
       "      <td>0</td>\n",
       "      <td>91</td>\n",
       "      <td>Love On The Weekend</td>\n",
       "      <td>[friday, final, cant, believ, youv, ive, wait,...</td>\n",
       "    </tr>\n",
       "    <tr>\n",
       "      <th>69</th>\n",
       "      <td>Andy Grammer</td>\n",
       "      <td>I got these fresh eyes, never seen you before ...</td>\n",
       "      <td>andy-grammer-fresh-eyes.txt</td>\n",
       "      <td>/media/sf_D_DRIVE/jupyter/tyler/billboard_hot_...</td>\n",
       "      <td>songlyrics.com</td>\n",
       "      <td>0.027200</td>\n",
       "      <td>0.727857</td>\n",
       "      <td>0.244943</td>\n",
       "      <td>0.02</td>\n",
       "      <td>68</td>\n",
       "      <td>70</td>\n",
       "      <td>Fresh Eyes</td>\n",
       "      <td>[fresh, eye, seen, god, beauti, time, door, us...</td>\n",
       "    </tr>\n",
       "  </tbody>\n",
       "</table>\n",
       "</div>"
      ],
      "text/plain": [
       "                          artist  \\\n",
       "37  Sia Featuring Kendrick Lamar   \n",
       "32                   John Legend   \n",
       "34               Little Big Town   \n",
       "90                    John Mayer   \n",
       "69                  Andy Grammer   \n",
       "\n",
       "                                               lyrics  \\\n",
       "37  Uh-oh, running out of breath, but I\\nOh, I, I ...   \n",
       "32  Pulling me further, further than I've been bef...   \n",
       "34  I know I'm probably better off on my own\\nThan...   \n",
       "90  \\nIt's a Friday, we finally made it\\nI can't b...   \n",
       "69  I got these fresh eyes, never seen you before ...   \n",
       "\n",
       "                                      lyrics_file  \\\n",
       "37  sia-featuring-kendrick-lamar-the-greatest.txt   \n",
       "32                    john-legend-love-me-now.txt   \n",
       "34                 little-big-town-better-man.txt   \n",
       "90             john-mayer-love-on-the-weekend.txt   \n",
       "69                    andy-grammer-fresh-eyes.txt   \n",
       "\n",
       "                                     lyrics_file_path   lyrics_source  \\\n",
       "37  /media/sf_D_DRIVE/jupyter/tyler/billboard_hot_...  songlyrics.com   \n",
       "32  /media/sf_D_DRIVE/jupyter/tyler/billboard_hot_...  songlyrics.com   \n",
       "34  /media/sf_D_DRIVE/jupyter/tyler/billboard_hot_...  songlyrics.com   \n",
       "90  /media/sf_D_DRIVE/jupyter/tyler/billboard_hot_...  songlyrics.com   \n",
       "69  /media/sf_D_DRIVE/jupyter/tyler/billboard_hot_...  songlyrics.com   \n",
       "\n",
       "    negative_sentiment  neutral_sentiment  positive_sentiment  \\\n",
       "37            0.014704           0.579225            0.406085   \n",
       "32            0.059218           0.641345            0.299418   \n",
       "34            0.044571           0.659024            0.296286   \n",
       "90            0.028432           0.684568            0.287027   \n",
       "69            0.027200           0.727857            0.244943   \n",
       "\n",
       "    rank_differential rank_last_week rank_this_week                title  \\\n",
       "37              -0.01             39             38         The Greatest   \n",
       "32               0.02             31             33          Love Me Now   \n",
       "34              -0.06             41             35           Better Man   \n",
       "90               0.91              0             91  Love On The Weekend   \n",
       "69               0.02             68             70           Fresh Eyes   \n",
       "\n",
       "                                          word_lyrics  \n",
       "37  [uhoh, run, breath, stamina, uhoh, run, close,...  \n",
       "32  [pull, ive, stronger, shake, core, dont, what,...  \n",
       "34  [probabl, own, love, didnt, perman, damag, wis...  \n",
       "90  [friday, final, cant, believ, youv, ive, wait,...  \n",
       "69  [fresh, eye, seen, god, beauti, time, door, us...  "
      ]
     },
     "execution_count": 338,
     "metadata": {},
     "output_type": "execute_result"
    }
   ],
   "source": [
    "songs_df.nlargest(5, 'positive_sentiment')"
   ]
  },
  {
   "cell_type": "markdown",
   "metadata": {},
   "source": [
    "# 5 most neutral songs"
   ]
  },
  {
   "cell_type": "code",
   "execution_count": 339,
   "metadata": {
    "collapsed": false
   },
   "outputs": [
    {
     "data": {
      "text/html": [
       "<div>\n",
       "<table border=\"1\" class=\"dataframe\">\n",
       "  <thead>\n",
       "    <tr style=\"text-align: right;\">\n",
       "      <th></th>\n",
       "      <th>artist</th>\n",
       "      <th>lyrics</th>\n",
       "      <th>lyrics_file</th>\n",
       "      <th>lyrics_file_path</th>\n",
       "      <th>lyrics_source</th>\n",
       "      <th>negative_sentiment</th>\n",
       "      <th>neutral_sentiment</th>\n",
       "      <th>positive_sentiment</th>\n",
       "      <th>rank_differential</th>\n",
       "      <th>rank_last_week</th>\n",
       "      <th>rank_this_week</th>\n",
       "      <th>title</th>\n",
       "      <th>word_lyrics</th>\n",
       "    </tr>\n",
       "  </thead>\n",
       "  <tbody>\n",
       "    <tr>\n",
       "      <th>51</th>\n",
       "      <td>Marian Hill</td>\n",
       "      <td>Didn't even really wanna go\\nBut if you get me...</td>\n",
       "      <td>marian-hill-down.txt</td>\n",
       "      <td>/media/sf_D_DRIVE/jupyter/tyler/billboard_hot_...</td>\n",
       "      <td>songlyrics.com</td>\n",
       "      <td>0.018386</td>\n",
       "      <td>0.955159</td>\n",
       "      <td>0.026455</td>\n",
       "      <td>-0.47</td>\n",
       "      <td>99</td>\n",
       "      <td>52</td>\n",
       "      <td>Down</td>\n",
       "      <td>[didnt, wan, na, there, bodi, floor, babi, add...</td>\n",
       "    </tr>\n",
       "    <tr>\n",
       "      <th>68</th>\n",
       "      <td>Brett Eldredge</td>\n",
       "      <td>The radio and a sundress\\nMakin' my world all ...</td>\n",
       "      <td>brett-eldredge-wanna-be-that-song.txt</td>\n",
       "      <td>/media/sf_D_DRIVE/jupyter/tyler/billboard_hot_...</td>\n",
       "      <td>songlyrics.com</td>\n",
       "      <td>0.038955</td>\n",
       "      <td>0.952212</td>\n",
       "      <td>0.008833</td>\n",
       "      <td>0.05</td>\n",
       "      <td>64</td>\n",
       "      <td>69</td>\n",
       "      <td>Wanna Be That Song</td>\n",
       "      <td>[radio, sundress, makin, world, mess, corner, ...</td>\n",
       "    </tr>\n",
       "    <tr>\n",
       "      <th>76</th>\n",
       "      <td>Luis Fonsi Featuring Daddy Yankee</td>\n",
       "      <td>Ay \\nFonsi \\nDY \\nOh oh… \\nOh no, oh no… \\nOh ...</td>\n",
       "      <td>luis-fonsi-featuring-daddy-yankee-despacito.txt</td>\n",
       "      <td>/media/sf_D_DRIVE/jupyter/tyler/billboard_hot_...</td>\n",
       "      <td>songlyrics.com</td>\n",
       "      <td>0.016727</td>\n",
       "      <td>0.945045</td>\n",
       "      <td>0.038227</td>\n",
       "      <td>-0.11</td>\n",
       "      <td>88</td>\n",
       "      <td>77</td>\n",
       "      <td>Despacito</td>\n",
       "      <td>[ay, fonsi, dy, yeah, dididiri, daddi, sí, sab...</td>\n",
       "    </tr>\n",
       "    <tr>\n",
       "      <th>67</th>\n",
       "      <td>Alessia Cara</td>\n",
       "      <td>Wooohhhh\\n\\nYou sheltered me from harm\\nKept m...</td>\n",
       "      <td>alessia-cara-how-far-ill-go.txt</td>\n",
       "      <td>/media/sf_D_DRIVE/jupyter/tyler/billboard_hot_...</td>\n",
       "      <td>songlyrics.com</td>\n",
       "      <td>0.015731</td>\n",
       "      <td>0.929423</td>\n",
       "      <td>0.054846</td>\n",
       "      <td>0.12</td>\n",
       "      <td>56</td>\n",
       "      <td>68</td>\n",
       "      <td>How Far I'll Go</td>\n",
       "      <td>[wooohhhh, shelter, harm, kept, warm, kept, wa...</td>\n",
       "    </tr>\n",
       "    <tr>\n",
       "      <th>63</th>\n",
       "      <td>Khalid</td>\n",
       "      <td>\\n\\n\\n\\nSend me your location lets\\nFocus on c...</td>\n",
       "      <td>khalid-location.txt</td>\n",
       "      <td>/media/sf_D_DRIVE/jupyter/tyler/billboard_hot_...</td>\n",
       "      <td>songlyrics.com</td>\n",
       "      <td>0.016184</td>\n",
       "      <td>0.926105</td>\n",
       "      <td>0.057711</td>\n",
       "      <td>-0.06</td>\n",
       "      <td>70</td>\n",
       "      <td>64</td>\n",
       "      <td>Location</td>\n",
       "      <td>[send, locat, focu, commun, cuz, time, chanc, ...</td>\n",
       "    </tr>\n",
       "  </tbody>\n",
       "</table>\n",
       "</div>"
      ],
      "text/plain": [
       "                               artist  \\\n",
       "51                        Marian Hill   \n",
       "68                     Brett Eldredge   \n",
       "76  Luis Fonsi Featuring Daddy Yankee   \n",
       "67                       Alessia Cara   \n",
       "63                             Khalid   \n",
       "\n",
       "                                               lyrics  \\\n",
       "51  Didn't even really wanna go\\nBut if you get me...   \n",
       "68  The radio and a sundress\\nMakin' my world all ...   \n",
       "76  Ay \\nFonsi \\nDY \\nOh oh… \\nOh no, oh no… \\nOh ...   \n",
       "67  Wooohhhh\\n\\nYou sheltered me from harm\\nKept m...   \n",
       "63  \\n\\n\\n\\nSend me your location lets\\nFocus on c...   \n",
       "\n",
       "                                        lyrics_file  \\\n",
       "51                             marian-hill-down.txt   \n",
       "68            brett-eldredge-wanna-be-that-song.txt   \n",
       "76  luis-fonsi-featuring-daddy-yankee-despacito.txt   \n",
       "67                  alessia-cara-how-far-ill-go.txt   \n",
       "63                              khalid-location.txt   \n",
       "\n",
       "                                     lyrics_file_path   lyrics_source  \\\n",
       "51  /media/sf_D_DRIVE/jupyter/tyler/billboard_hot_...  songlyrics.com   \n",
       "68  /media/sf_D_DRIVE/jupyter/tyler/billboard_hot_...  songlyrics.com   \n",
       "76  /media/sf_D_DRIVE/jupyter/tyler/billboard_hot_...  songlyrics.com   \n",
       "67  /media/sf_D_DRIVE/jupyter/tyler/billboard_hot_...  songlyrics.com   \n",
       "63  /media/sf_D_DRIVE/jupyter/tyler/billboard_hot_...  songlyrics.com   \n",
       "\n",
       "    negative_sentiment  neutral_sentiment  positive_sentiment  \\\n",
       "51            0.018386           0.955159            0.026455   \n",
       "68            0.038955           0.952212            0.008833   \n",
       "76            0.016727           0.945045            0.038227   \n",
       "67            0.015731           0.929423            0.054846   \n",
       "63            0.016184           0.926105            0.057711   \n",
       "\n",
       "    rank_differential rank_last_week rank_this_week               title  \\\n",
       "51              -0.47             99             52                Down   \n",
       "68               0.05             64             69  Wanna Be That Song   \n",
       "76              -0.11             88             77           Despacito   \n",
       "67               0.12             56             68     How Far I'll Go   \n",
       "63              -0.06             70             64            Location   \n",
       "\n",
       "                                          word_lyrics  \n",
       "51  [didnt, wan, na, there, bodi, floor, babi, add...  \n",
       "68  [radio, sundress, makin, world, mess, corner, ...  \n",
       "76  [ay, fonsi, dy, yeah, dididiri, daddi, sí, sab...  \n",
       "67  [wooohhhh, shelter, harm, kept, warm, kept, wa...  \n",
       "63  [send, locat, focu, commun, cuz, time, chanc, ...  "
      ]
     },
     "execution_count": 339,
     "metadata": {},
     "output_type": "execute_result"
    }
   ],
   "source": [
    "songs_df.nlargest(5, 'neutral_sentiment')"
   ]
  },
  {
   "cell_type": "markdown",
   "metadata": {},
   "source": [
    "# How repititive?\n",
    "\n",
    "Check how repititive a song is by looking at the number of occurences each phrase or sentence has. A lot of songs are repititive due to the nature of a chorus etc.. however some might be super repititve."
   ]
  },
  {
   "cell_type": "code",
   "execution_count": 359,
   "metadata": {
    "collapsed": false
   },
   "outputs": [
    {
     "data": {
      "text/plain": [
       "<matplotlib.legend.Legend at 0x7fb2c0d65e10>"
      ]
     },
     "execution_count": 359,
     "metadata": {},
     "output_type": "execute_result"
    },
    {
     "data": {
      "image/png": "[encoded data removed]",
      "text/plain": [
       "<matplotlib.figure.Figure at 0x7fb2c2a000b8>"
      ]
     },
     "metadata": {},
     "output_type": "display_data"
    }
   ],
   "source": [
    "def song_repitiveness(lyrics, rate=2):\n",
    "    # split song on sentence and find unique sentences\n",
    "    sentences = split_sentences(lyrics)\n",
    "    unique_sentences = set(sentences)\n",
    "    \n",
    "    total_sentences = len(sentences)\n",
    "    total_unique_sentences = len(unique_sentences)\n",
    "    \n",
    "    # collect frequency of unique sentences and calculate reptitiveness\n",
    "    repititive_rate = 0\n",
    "    frequency = 0\n",
    "    for usentence in unique_sentences:\n",
    "        for sentence in sentences:\n",
    "            if usentence == sentence:\n",
    "                frequency = frequency + 1\n",
    "\n",
    "        # only calc. reptitiveness rate if frequency rate cutoff is met\n",
    "        if frequency >= rate:\n",
    "            repititive_rate = repititive_rate + (frequency / total_sentences)\n",
    "            \n",
    "        frequency = 0\n",
    "        \n",
    "    return repititive_rate\n",
    "\n",
    "for song in songs:\n",
    "    song['repititiveness'] = song_repitiveness(song['lyrics'], rate=2)\n",
    "    \n",
    "songs_df = pd.DataFrame.from_dict(songs)\n",
    "plot = songs_df.sort_values('rank_this_week').plot(x='title', y=('repititiveness'), kind='bar', title='Song Repetitiveness\\nOrdered by Current Rank', stacked=True, figsize=(20,5))\n",
    "mean = songs_df.mean()['repititiveness']\n",
    "median = songs_df.median()['repititiveness']\n",
    "mean_line = plot.axhline(mean, color='r', label='Mean', linestyle='--')\n",
    "median_line = plot.axhline(median, color='g', label='Median', linestyle='--')\n",
    "plot.legend(handles=[mean_line, median_line], loc=1)"
   ]
  },
  {
   "cell_type": "code",
   "execution_count": 341,
   "metadata": {
    "collapsed": false
   },
   "outputs": [
    {
     "data": {
      "text/html": [
       "<div>\n",
       "<table border=\"1\" class=\"dataframe\">\n",
       "  <thead>\n",
       "    <tr style=\"text-align: right;\">\n",
       "      <th></th>\n",
       "      <th>negative_sentiment</th>\n",
       "      <th>neutral_sentiment</th>\n",
       "      <th>positive_sentiment</th>\n",
       "      <th>rank_differential</th>\n",
       "      <th>repititiveness</th>\n",
       "    </tr>\n",
       "  </thead>\n",
       "  <tbody>\n",
       "    <tr>\n",
       "      <th>count</th>\n",
       "      <td>100.000000</td>\n",
       "      <td>100.000000</td>\n",
       "      <td>100.000000</td>\n",
       "      <td>100.000000</td>\n",
       "      <td>100.000000</td>\n",
       "    </tr>\n",
       "    <tr>\n",
       "      <th>mean</th>\n",
       "      <td>0.085390</td>\n",
       "      <td>0.795552</td>\n",
       "      <td>0.119059</td>\n",
       "      <td>0.098500</td>\n",
       "      <td>0.548873</td>\n",
       "    </tr>\n",
       "    <tr>\n",
       "      <th>std</th>\n",
       "      <td>0.085363</td>\n",
       "      <td>0.097600</td>\n",
       "      <td>0.071854</td>\n",
       "      <td>0.310241</td>\n",
       "      <td>0.169860</td>\n",
       "    </tr>\n",
       "    <tr>\n",
       "      <th>min</th>\n",
       "      <td>0.000000</td>\n",
       "      <td>0.314293</td>\n",
       "      <td>0.008833</td>\n",
       "      <td>-0.470000</td>\n",
       "      <td>0.066667</td>\n",
       "    </tr>\n",
       "    <tr>\n",
       "      <th>25%</th>\n",
       "      <td>0.035765</td>\n",
       "      <td>0.745895</td>\n",
       "      <td>0.066541</td>\n",
       "      <td>-0.040000</td>\n",
       "      <td>0.444444</td>\n",
       "    </tr>\n",
       "    <tr>\n",
       "      <th>50%</th>\n",
       "      <td>0.064605</td>\n",
       "      <td>0.806645</td>\n",
       "      <td>0.104816</td>\n",
       "      <td>0.000000</td>\n",
       "      <td>0.569805</td>\n",
       "    </tr>\n",
       "    <tr>\n",
       "      <th>75%</th>\n",
       "      <td>0.103589</td>\n",
       "      <td>0.859016</td>\n",
       "      <td>0.163132</td>\n",
       "      <td>0.080000</td>\n",
       "      <td>0.676705</td>\n",
       "    </tr>\n",
       "    <tr>\n",
       "      <th>max</th>\n",
       "      <td>0.648732</td>\n",
       "      <td>0.955159</td>\n",
       "      <td>0.406085</td>\n",
       "      <td>1.000000</td>\n",
       "      <td>1.000000</td>\n",
       "    </tr>\n",
       "  </tbody>\n",
       "</table>\n",
       "</div>"
      ],
      "text/plain": [
       "       negative_sentiment  neutral_sentiment  positive_sentiment  \\\n",
       "count          100.000000         100.000000          100.000000   \n",
       "mean             0.085390           0.795552            0.119059   \n",
       "std              0.085363           0.097600            0.071854   \n",
       "min              0.000000           0.314293            0.008833   \n",
       "25%              0.035765           0.745895            0.066541   \n",
       "50%              0.064605           0.806645            0.104816   \n",
       "75%              0.103589           0.859016            0.163132   \n",
       "max              0.648732           0.955159            0.406085   \n",
       "\n",
       "       rank_differential  repititiveness  \n",
       "count         100.000000      100.000000  \n",
       "mean            0.098500        0.548873  \n",
       "std             0.310241        0.169860  \n",
       "min            -0.470000        0.066667  \n",
       "25%            -0.040000        0.444444  \n",
       "50%             0.000000        0.569805  \n",
       "75%             0.080000        0.676705  \n",
       "max             1.000000        1.000000  "
      ]
     },
     "execution_count": 341,
     "metadata": {},
     "output_type": "execute_result"
    }
   ],
   "source": [
    "songs_df.describe()"
   ]
  },
  {
   "cell_type": "code",
   "execution_count": 342,
   "metadata": {
    "collapsed": false
   },
   "outputs": [
    {
     "data": {
      "text/html": [
       "<div>\n",
       "<table border=\"1\" class=\"dataframe\">\n",
       "  <thead>\n",
       "    <tr style=\"text-align: right;\">\n",
       "      <th></th>\n",
       "      <th>artist</th>\n",
       "      <th>lyrics</th>\n",
       "      <th>lyrics_file</th>\n",
       "      <th>lyrics_file_path</th>\n",
       "      <th>lyrics_source</th>\n",
       "      <th>negative_sentiment</th>\n",
       "      <th>neutral_sentiment</th>\n",
       "      <th>positive_sentiment</th>\n",
       "      <th>rank_differential</th>\n",
       "      <th>rank_last_week</th>\n",
       "      <th>rank_this_week</th>\n",
       "      <th>repititiveness</th>\n",
       "      <th>title</th>\n",
       "      <th>word_lyrics</th>\n",
       "    </tr>\n",
       "  </thead>\n",
       "  <tbody>\n",
       "    <tr>\n",
       "      <th>52</th>\n",
       "      <td>Fitz And The Tantrums</td>\n",
       "      <td>Somebody save your soul cause you've been sinn...</td>\n",
       "      <td>fitz-and-the-tantrums-handclap.txt</td>\n",
       "      <td>/media/sf_D_DRIVE/jupyter/tyler/billboard_hot_...</td>\n",
       "      <td>songlyrics.com</td>\n",
       "      <td>0.036174</td>\n",
       "      <td>0.870674</td>\n",
       "      <td>0.093152</td>\n",
       "      <td>-0.01</td>\n",
       "      <td>54</td>\n",
       "      <td>53</td>\n",
       "      <td>0.760870</td>\n",
       "      <td>HandClap</td>\n",
       "      <td>[save, soul, caus, youv, sin, citi, troubl, lo...</td>\n",
       "    </tr>\n",
       "    <tr>\n",
       "      <th>16</th>\n",
       "      <td>Amine</td>\n",
       "      <td>Listen man\\nWhat's up?\\nI heard you done got y...</td>\n",
       "      <td>amine-caroline.txt</td>\n",
       "      <td>/media/sf_D_DRIVE/jupyter/tyler/billboard_hot_...</td>\n",
       "      <td>songlyrics.com</td>\n",
       "      <td>0.145731</td>\n",
       "      <td>0.690564</td>\n",
       "      <td>0.163705</td>\n",
       "      <td>0.03</td>\n",
       "      <td>14</td>\n",
       "      <td>17</td>\n",
       "      <td>0.769231</td>\n",
       "      <td>Caroline</td>\n",
       "      <td>[listen, what, heard, dime, piec, hell, naw, b...</td>\n",
       "    </tr>\n",
       "    <tr>\n",
       "      <th>8</th>\n",
       "      <td>Drake</td>\n",
       "      <td>Yeah, yeah\\n\\nI've been down so long it look l...</td>\n",
       "      <td>drake-fake-love.txt</td>\n",
       "      <td>/media/sf_D_DRIVE/jupyter/tyler/billboard_hot_...</td>\n",
       "      <td>songlyrics.com</td>\n",
       "      <td>0.098404</td>\n",
       "      <td>0.717421</td>\n",
       "      <td>0.184281</td>\n",
       "      <td>-0.02</td>\n",
       "      <td>11</td>\n",
       "      <td>9</td>\n",
       "      <td>0.771930</td>\n",
       "      <td>Fake Love</td>\n",
       "      <td>[yeah, yeah, ive, look, look, fake, peopl, sho...</td>\n",
       "    </tr>\n",
       "    <tr>\n",
       "      <th>1</th>\n",
       "      <td>Ed Sheeran</td>\n",
       "      <td>\\n\\n\\n\\nThe club isn't the best place to find...</td>\n",
       "      <td>ed-sheeran-shape-of-you.txt</td>\n",
       "      <td>/media/sf_D_DRIVE/jupyter/tyler/billboard_hot_...</td>\n",
       "      <td>songlyrics.com</td>\n",
       "      <td>0.021147</td>\n",
       "      <td>0.806789</td>\n",
       "      <td>0.172053</td>\n",
       "      <td>0.00</td>\n",
       "      <td>2</td>\n",
       "      <td>2</td>\n",
       "      <td>0.778947</td>\n",
       "      <td>Shape Of You</td>\n",
       "      <td>[club, isnt, lover, bar, friend, tabl, do, sho...</td>\n",
       "    </tr>\n",
       "    <tr>\n",
       "      <th>26</th>\n",
       "      <td>Sia Featuring Sean Paul</td>\n",
       "      <td>Up with it, girl\\nRock with it, girl (Sia)\\nSh...</td>\n",
       "      <td>sia-featuring-sean-paul-cheap-thrills.txt</td>\n",
       "      <td>/media/sf_D_DRIVE/jupyter/tyler/billboard_hot_...</td>\n",
       "      <td>songlyrics.com</td>\n",
       "      <td>0.018337</td>\n",
       "      <td>0.765930</td>\n",
       "      <td>0.215721</td>\n",
       "      <td>0.00</td>\n",
       "      <td>27</td>\n",
       "      <td>27</td>\n",
       "      <td>0.779070</td>\n",
       "      <td>Cheap Thrills</td>\n",
       "      <td>[girl, rock, girl, sia, dem, girl, bada, bang,...</td>\n",
       "    </tr>\n",
       "    <tr>\n",
       "      <th>33</th>\n",
       "      <td>The Chainsmokers Featuring Daya</td>\n",
       "      <td>Crashing, hit a wall\\nRight now I need a mirac...</td>\n",
       "      <td>the-chainsmokers-featuring-daya-dont-let-me-do...</td>\n",
       "      <td>/media/sf_D_DRIVE/jupyter/tyler/billboard_hot_...</td>\n",
       "      <td>songlyrics.com</td>\n",
       "      <td>0.035440</td>\n",
       "      <td>0.853620</td>\n",
       "      <td>0.110900</td>\n",
       "      <td>0.01</td>\n",
       "      <td>33</td>\n",
       "      <td>34</td>\n",
       "      <td>0.780000</td>\n",
       "      <td>Don't Let Me Down</td>\n",
       "      <td>[crash, hit, wall, miracl, hurri, miracl, stra...</td>\n",
       "    </tr>\n",
       "    <tr>\n",
       "      <th>2</th>\n",
       "      <td>The Chainsmokers Featuring Halsey</td>\n",
       "      <td>Hey, I was doing just fine before I met you\\nI...</td>\n",
       "      <td>the-chainsmokers-featuring-halsey-closer.txt</td>\n",
       "      <td>/media/sf_D_DRIVE/jupyter/tyler/billboard_hot_...</td>\n",
       "      <td>songlyrics.com</td>\n",
       "      <td>0.074517</td>\n",
       "      <td>0.853517</td>\n",
       "      <td>0.071966</td>\n",
       "      <td>-0.01</td>\n",
       "      <td>4</td>\n",
       "      <td>3</td>\n",
       "      <td>0.793103</td>\n",
       "      <td>Closer</td>\n",
       "      <td>[hey, do, fine, met, drink, that, issu, okay, ...</td>\n",
       "    </tr>\n",
       "    <tr>\n",
       "      <th>12</th>\n",
       "      <td>The Chainsmokers</td>\n",
       "      <td>\\n\\n\\n\\nWe were staying in Paris\\nTo get away...</td>\n",
       "      <td>the-chainsmokers-paris.txt</td>\n",
       "      <td>/media/sf_D_DRIVE/jupyter/tyler/billboard_hot_...</td>\n",
       "      <td>songlyrics.com</td>\n",
       "      <td>0.009554</td>\n",
       "      <td>0.870892</td>\n",
       "      <td>0.119554</td>\n",
       "      <td>0.06</td>\n",
       "      <td>7</td>\n",
       "      <td>13</td>\n",
       "      <td>0.815385</td>\n",
       "      <td>Paris</td>\n",
       "      <td>[stay, pari, parent, wow, shot, dont, terrac, ...</td>\n",
       "    </tr>\n",
       "    <tr>\n",
       "      <th>64</th>\n",
       "      <td>Auli'i Cravalho</td>\n",
       "      <td>I got this feeling on the summer day when you ...</td>\n",
       "      <td>aulii-cravalho-how-far-ill-go.txt</td>\n",
       "      <td>/media/sf_D_DRIVE/jupyter/tyler/billboard_hot_...</td>\n",
       "      <td>songlyrics.com</td>\n",
       "      <td>0.342167</td>\n",
       "      <td>0.566556</td>\n",
       "      <td>0.091278</td>\n",
       "      <td>-0.02</td>\n",
       "      <td>67</td>\n",
       "      <td>65</td>\n",
       "      <td>0.972222</td>\n",
       "      <td>How Far I'll Go</td>\n",
       "      <td>[feel, summer, day, gone, crash, car, bridg, w...</td>\n",
       "    </tr>\n",
       "    <tr>\n",
       "      <th>88</th>\n",
       "      <td>Marshmello</td>\n",
       "      <td>I'm so alone\\nNothing feels like home\\nI'm so ...</td>\n",
       "      <td>marshmello-alone.txt</td>\n",
       "      <td>/media/sf_D_DRIVE/jupyter/tyler/billboard_hot_...</td>\n",
       "      <td>songlyrics.com</td>\n",
       "      <td>0.267000</td>\n",
       "      <td>0.642000</td>\n",
       "      <td>0.091000</td>\n",
       "      <td>0.29</td>\n",
       "      <td>60</td>\n",
       "      <td>89</td>\n",
       "      <td>1.000000</td>\n",
       "      <td>Alone</td>\n",
       "      <td>[feel, home, tri, home, feel, home, tri, home,...</td>\n",
       "    </tr>\n",
       "  </tbody>\n",
       "</table>\n",
       "</div>"
      ],
      "text/plain": [
       "                               artist  \\\n",
       "52              Fitz And The Tantrums   \n",
       "16                              Amine   \n",
       "8                               Drake   \n",
       "1                          Ed Sheeran   \n",
       "26            Sia Featuring Sean Paul   \n",
       "33    The Chainsmokers Featuring Daya   \n",
       "2   The Chainsmokers Featuring Halsey   \n",
       "12                   The Chainsmokers   \n",
       "64                    Auli'i Cravalho   \n",
       "88                         Marshmello   \n",
       "\n",
       "                                               lyrics  \\\n",
       "52  Somebody save your soul cause you've been sinn...   \n",
       "16  Listen man\\nWhat's up?\\nI heard you done got y...   \n",
       "8   Yeah, yeah\\n\\nI've been down so long it look l...   \n",
       "1    \\n\\n\\n\\nThe club isn't the best place to find...   \n",
       "26  Up with it, girl\\nRock with it, girl (Sia)\\nSh...   \n",
       "33  Crashing, hit a wall\\nRight now I need a mirac...   \n",
       "2   Hey, I was doing just fine before I met you\\nI...   \n",
       "12   \\n\\n\\n\\nWe were staying in Paris\\nTo get away...   \n",
       "64  I got this feeling on the summer day when you ...   \n",
       "88  I'm so alone\\nNothing feels like home\\nI'm so ...   \n",
       "\n",
       "                                          lyrics_file  \\\n",
       "52                 fitz-and-the-tantrums-handclap.txt   \n",
       "16                                 amine-caroline.txt   \n",
       "8                                 drake-fake-love.txt   \n",
       "1                         ed-sheeran-shape-of-you.txt   \n",
       "26          sia-featuring-sean-paul-cheap-thrills.txt   \n",
       "33  the-chainsmokers-featuring-daya-dont-let-me-do...   \n",
       "2        the-chainsmokers-featuring-halsey-closer.txt   \n",
       "12                         the-chainsmokers-paris.txt   \n",
       "64                  aulii-cravalho-how-far-ill-go.txt   \n",
       "88                               marshmello-alone.txt   \n",
       "\n",
       "                                     lyrics_file_path   lyrics_source  \\\n",
       "52  /media/sf_D_DRIVE/jupyter/tyler/billboard_hot_...  songlyrics.com   \n",
       "16  /media/sf_D_DRIVE/jupyter/tyler/billboard_hot_...  songlyrics.com   \n",
       "8   /media/sf_D_DRIVE/jupyter/tyler/billboard_hot_...  songlyrics.com   \n",
       "1   /media/sf_D_DRIVE/jupyter/tyler/billboard_hot_...  songlyrics.com   \n",
       "26  /media/sf_D_DRIVE/jupyter/tyler/billboard_hot_...  songlyrics.com   \n",
       "33  /media/sf_D_DRIVE/jupyter/tyler/billboard_hot_...  songlyrics.com   \n",
       "2   /media/sf_D_DRIVE/jupyter/tyler/billboard_hot_...  songlyrics.com   \n",
       "12  /media/sf_D_DRIVE/jupyter/tyler/billboard_hot_...  songlyrics.com   \n",
       "64  /media/sf_D_DRIVE/jupyter/tyler/billboard_hot_...  songlyrics.com   \n",
       "88  /media/sf_D_DRIVE/jupyter/tyler/billboard_hot_...  songlyrics.com   \n",
       "\n",
       "    negative_sentiment  neutral_sentiment  positive_sentiment  \\\n",
       "52            0.036174           0.870674            0.093152   \n",
       "16            0.145731           0.690564            0.163705   \n",
       "8             0.098404           0.717421            0.184281   \n",
       "1             0.021147           0.806789            0.172053   \n",
       "26            0.018337           0.765930            0.215721   \n",
       "33            0.035440           0.853620            0.110900   \n",
       "2             0.074517           0.853517            0.071966   \n",
       "12            0.009554           0.870892            0.119554   \n",
       "64            0.342167           0.566556            0.091278   \n",
       "88            0.267000           0.642000            0.091000   \n",
       "\n",
       "    rank_differential rank_last_week rank_this_week  repititiveness  \\\n",
       "52              -0.01             54             53        0.760870   \n",
       "16               0.03             14             17        0.769231   \n",
       "8               -0.02             11              9        0.771930   \n",
       "1                0.00              2              2        0.778947   \n",
       "26               0.00             27             27        0.779070   \n",
       "33               0.01             33             34        0.780000   \n",
       "2               -0.01              4              3        0.793103   \n",
       "12               0.06              7             13        0.815385   \n",
       "64              -0.02             67             65        0.972222   \n",
       "88               0.29             60             89        1.000000   \n",
       "\n",
       "                title                                        word_lyrics  \n",
       "52           HandClap  [save, soul, caus, youv, sin, citi, troubl, lo...  \n",
       "16           Caroline  [listen, what, heard, dime, piec, hell, naw, b...  \n",
       "8           Fake Love  [yeah, yeah, ive, look, look, fake, peopl, sho...  \n",
       "1        Shape Of You  [club, isnt, lover, bar, friend, tabl, do, sho...  \n",
       "26      Cheap Thrills  [girl, rock, girl, sia, dem, girl, bada, bang,...  \n",
       "33  Don't Let Me Down  [crash, hit, wall, miracl, hurri, miracl, stra...  \n",
       "2              Closer  [hey, do, fine, met, drink, that, issu, okay, ...  \n",
       "12              Paris  [stay, pari, parent, wow, shot, dont, terrac, ...  \n",
       "64    How Far I'll Go  [feel, summer, day, gone, crash, car, bridg, w...  \n",
       "88              Alone  [feel, home, tri, home, feel, home, tri, home,...  "
      ]
     },
     "execution_count": 342,
     "metadata": {},
     "output_type": "execute_result"
    }
   ],
   "source": [
    "songs_df.sort_values('repititiveness').tail(10)"
   ]
  },
  {
   "cell_type": "markdown",
   "metadata": {},
   "source": [
    "# Data correlations"
   ]
  },
  {
   "cell_type": "code",
   "execution_count": 357,
   "metadata": {
    "collapsed": false
   },
   "outputs": [
    {
     "data": {
      "text/html": [
       "<div>\n",
       "<table border=\"1\" class=\"dataframe\">\n",
       "  <thead>\n",
       "    <tr style=\"text-align: right;\">\n",
       "      <th></th>\n",
       "      <th>negative_sentiment</th>\n",
       "      <th>neutral_sentiment</th>\n",
       "      <th>positive_sentiment</th>\n",
       "      <th>rank_differential</th>\n",
       "      <th>rank_last_week</th>\n",
       "      <th>rank_this_week</th>\n",
       "      <th>repititiveness</th>\n",
       "    </tr>\n",
       "  </thead>\n",
       "  <tbody>\n",
       "    <tr>\n",
       "      <th>negative_sentiment</th>\n",
       "      <td>1.000000</td>\n",
       "      <td>-0.699131</td>\n",
       "      <td>-0.238394</td>\n",
       "      <td>0.000089</td>\n",
       "      <td>0.010942</td>\n",
       "      <td>0.011382</td>\n",
       "      <td>0.027998</td>\n",
       "    </tr>\n",
       "    <tr>\n",
       "      <th>neutral_sentiment</th>\n",
       "      <td>-0.699131</td>\n",
       "      <td>1.000000</td>\n",
       "      <td>-0.527711</td>\n",
       "      <td>-0.050100</td>\n",
       "      <td>0.081672</td>\n",
       "      <td>0.030672</td>\n",
       "      <td>-0.086096</td>\n",
       "    </tr>\n",
       "    <tr>\n",
       "      <th>positive_sentiment</th>\n",
       "      <td>-0.238394</td>\n",
       "      <td>-0.527711</td>\n",
       "      <td>1.000000</td>\n",
       "      <td>0.068032</td>\n",
       "      <td>-0.123997</td>\n",
       "      <td>-0.055156</td>\n",
       "      <td>0.083753</td>\n",
       "    </tr>\n",
       "    <tr>\n",
       "      <th>rank_differential</th>\n",
       "      <td>0.000089</td>\n",
       "      <td>-0.050100</td>\n",
       "      <td>0.068032</td>\n",
       "      <td>1.000000</td>\n",
       "      <td>-0.547377</td>\n",
       "      <td>0.504734</td>\n",
       "      <td>-0.003483</td>\n",
       "    </tr>\n",
       "    <tr>\n",
       "      <th>rank_last_week</th>\n",
       "      <td>0.010942</td>\n",
       "      <td>0.081672</td>\n",
       "      <td>-0.123997</td>\n",
       "      <td>-0.547377</td>\n",
       "      <td>1.000000</td>\n",
       "      <td>0.446183</td>\n",
       "      <td>-0.069328</td>\n",
       "    </tr>\n",
       "    <tr>\n",
       "      <th>rank_this_week</th>\n",
       "      <td>0.011382</td>\n",
       "      <td>0.030672</td>\n",
       "      <td>-0.055156</td>\n",
       "      <td>0.504734</td>\n",
       "      <td>0.446183</td>\n",
       "      <td>1.000000</td>\n",
       "      <td>-0.075239</td>\n",
       "    </tr>\n",
       "    <tr>\n",
       "      <th>repititiveness</th>\n",
       "      <td>0.027998</td>\n",
       "      <td>-0.086096</td>\n",
       "      <td>0.083753</td>\n",
       "      <td>-0.003483</td>\n",
       "      <td>-0.069328</td>\n",
       "      <td>-0.075239</td>\n",
       "      <td>1.000000</td>\n",
       "    </tr>\n",
       "  </tbody>\n",
       "</table>\n",
       "</div>"
      ],
      "text/plain": [
       "                    negative_sentiment  neutral_sentiment  positive_sentiment  \\\n",
       "negative_sentiment            1.000000          -0.699131           -0.238394   \n",
       "neutral_sentiment            -0.699131           1.000000           -0.527711   \n",
       "positive_sentiment           -0.238394          -0.527711            1.000000   \n",
       "rank_differential             0.000089          -0.050100            0.068032   \n",
       "rank_last_week                0.010942           0.081672           -0.123997   \n",
       "rank_this_week                0.011382           0.030672           -0.055156   \n",
       "repititiveness                0.027998          -0.086096            0.083753   \n",
       "\n",
       "                    rank_differential  rank_last_week  rank_this_week  \\\n",
       "negative_sentiment           0.000089        0.010942        0.011382   \n",
       "neutral_sentiment           -0.050100        0.081672        0.030672   \n",
       "positive_sentiment           0.068032       -0.123997       -0.055156   \n",
       "rank_differential            1.000000       -0.547377        0.504734   \n",
       "rank_last_week              -0.547377        1.000000        0.446183   \n",
       "rank_this_week               0.504734        0.446183        1.000000   \n",
       "repititiveness              -0.003483       -0.069328       -0.075239   \n",
       "\n",
       "                    repititiveness  \n",
       "negative_sentiment        0.027998  \n",
       "neutral_sentiment        -0.086096  \n",
       "positive_sentiment        0.083753  \n",
       "rank_differential        -0.003483  \n",
       "rank_last_week           -0.069328  \n",
       "rank_this_week           -0.075239  \n",
       "repititiveness            1.000000  "
      ]
     },
     "execution_count": 357,
     "metadata": {},
     "output_type": "execute_result"
    }
   ],
   "source": [
    "songs_df.corr()"
   ]
  },
  {
   "cell_type": "markdown",
   "metadata": {},
   "source": [
    "# Repititiveness and negative sentiment"
   ]
  },
  {
   "cell_type": "code",
   "execution_count": 360,
   "metadata": {
    "collapsed": false
   },
   "outputs": [
    {
     "data": {
      "text/plain": [
       "<matplotlib.axes._subplots.AxesSubplot at 0x7fb2c08e33c8>"
      ]
     },
     "execution_count": 360,
     "metadata": {},
     "output_type": "execute_result"
    },
    {
     "data": {
      "image/png": "[encoded data removed]",
      "text/plain": [
       "<matplotlib.figure.Figure at 0x7fb2c022a390>"
      ]
     },
     "metadata": {},
     "output_type": "display_data"
    }
   ],
   "source": [
    "songs_df[['rank_this_week','rank_last_week']] = songs_df[['rank_this_week','rank_last_week']].apply(pd.to_numeric)\n",
    "songs_df.plot('repititiveness', 'negative_sentiment', kind='scatter', title='Negative Sentiment and Repetitiveness')"
   ]
  },
  {
   "cell_type": "markdown",
   "metadata": {},
   "source": [
    "# Repititiveness and positive sentiment"
   ]
  },
  {
   "cell_type": "code",
   "execution_count": 361,
   "metadata": {
    "collapsed": false
   },
   "outputs": [
    {
     "data": {
      "text/plain": [
       "<matplotlib.axes._subplots.AxesSubplot at 0x7fb2c2be25c0>"
      ]
     },
     "execution_count": 361,
     "metadata": {},
     "output_type": "execute_result"
    },
    {
     "data": {
      "image/png": "[encoded data removed]",
      "text/plain": [
       "<matplotlib.figure.Figure at 0x7fb2bf7086d8>"
      ]
     },
     "metadata": {},
     "output_type": "display_data"
    }
   ],
   "source": [
    "songs_df.plot('repititiveness', 'positive_sentiment', kind='scatter', title='Positive Sentiment and Repetitiveness')"
   ]
  },
  {
   "cell_type": "markdown",
   "metadata": {},
   "source": [
    "# Rank and positive sentiment"
   ]
  },
  {
   "cell_type": "code",
   "execution_count": 345,
   "metadata": {
    "collapsed": false
   },
   "outputs": [
    {
     "data": {
      "text/plain": [
       "<matplotlib.axes._subplots.AxesSubplot at 0x7fb2bf570ac8>"
      ]
     },
     "execution_count": 345,
     "metadata": {},
     "output_type": "execute_result"
    },
    {
     "data": {
      "image/png": "[encoded data removed]",
      "text/plain": [
       "<matplotlib.figure.Figure at 0x7fb2bf4cf828>"
      ]
     },
     "metadata": {},
     "output_type": "display_data"
    }
   ],
   "source": [
    "songs_df.plot('rank_this_week', 'positive_sentiment', kind='scatter', title='Positive Sentiment and Current Rank')"
   ]
  },
  {
   "cell_type": "markdown",
   "metadata": {},
   "source": [
    "# Rank and negative sentiment"
   ]
  },
  {
   "cell_type": "code",
   "execution_count": 346,
   "metadata": {
    "collapsed": false
   },
   "outputs": [
    {
     "data": {
      "text/plain": [
       "<matplotlib.axes._subplots.AxesSubplot at 0x7fb2bf4cb080>"
      ]
     },
     "execution_count": 346,
     "metadata": {},
     "output_type": "execute_result"
    },
    {
     "data": {
      "image/png": "[encoded data removed]",
      "text/plain": [
       "<matplotlib.figure.Figure at 0x7fb2bf58a668>"
      ]
     },
     "metadata": {},
     "output_type": "display_data"
    }
   ],
   "source": [
    "songs_df.plot('rank_this_week', 'negative_sentiment', kind='scatter', title='Negative Sentiment and Current Rank')"
   ]
  },
  {
   "cell_type": "markdown",
   "metadata": {},
   "source": [
    "# Rank and repititiveness"
   ]
  },
  {
   "cell_type": "code",
   "execution_count": 362,
   "metadata": {
    "collapsed": false
   },
   "outputs": [
    {
     "data": {
      "text/plain": [
       "<matplotlib.axes._subplots.AxesSubplot at 0x7fb2c0d95b38>"
      ]
     },
     "execution_count": 362,
     "metadata": {},
     "output_type": "execute_result"
    },
    {
     "data": {
      "image/png": "[encoded data removed]",
      "text/plain": [
       "<matplotlib.figure.Figure at 0x7fb2c1fd9b00>"
      ]
     },
     "metadata": {},
     "output_type": "display_data"
    }
   ],
   "source": [
    "songs_df.plot('rank_this_week', 'repititiveness', kind='scatter', title='Repetitiveness and Current Rank')"
   ]
  },
  {
   "cell_type": "markdown",
   "metadata": {},
   "source": [
    "# Common bigrams - bag of words - not normalized"
   ]
  },
  {
   "cell_type": "code",
   "execution_count": 348,
   "metadata": {
    "collapsed": false
   },
   "outputs": [
    {
     "data": {
      "image/png": "[encoded data removed]",
      "text/plain": [
       "<matplotlib.figure.Figure at 0x7fb2bfd59da0>"
      ]
     },
     "metadata": {},
     "output_type": "display_data"
    }
   ],
   "source": [
    "from nltk.util import ngrams\n",
    "\n",
    "all_words = []\n",
    "for song in songs:\n",
    "    all_words = all_words + song['word_lyrics']\n",
    "\n",
    "ngrams = ngrams(all_words, 2)\n",
    "dist = FreqDist(ngrams)\n",
    "dist.plot(20, title='Common BiGrams')"
   ]
  },
  {
   "cell_type": "markdown",
   "metadata": {},
   "source": [
    "# Common trigrams - bag of words - not normalized"
   ]
  },
  {
   "cell_type": "code",
   "execution_count": 349,
   "metadata": {
    "collapsed": false
   },
   "outputs": [
    {
     "data": {
      "image/png": "[encoded data removed]",
      "text/plain": [
       "<matplotlib.figure.Figure at 0x7fb2c2941b70>"
      ]
     },
     "metadata": {},
     "output_type": "display_data"
    }
   ],
   "source": [
    "from nltk.util import ngrams\n",
    "\n",
    "all_words = []\n",
    "for song in songs:\n",
    "    all_words = all_words + song['word_lyrics']\n",
    "\n",
    "ngrams = ngrams(all_words, 3)\n",
    "dist = FreqDist(ngrams)\n",
    "dist.plot(20, title='Common TriGrams')"
   ]
  },
  {
   "cell_type": "markdown",
   "metadata": {},
   "source": [
    "# Normalized trigrams"
   ]
  },
  {
   "cell_type": "code",
   "execution_count": 350,
   "metadata": {
    "collapsed": false
   },
   "outputs": [],
   "source": [
    "from nltk.util import ngrams\n",
    "\n",
    "normalized_ngram_frequencies = {}\n",
    "\n",
    "for song in songs:\n",
    "    ngs = list(ngrams(song['word_lyrics'], 3))\n",
    "    unique_ngs = set(ngs)\n",
    "    dist = FreqDist(ngs)\n",
    "\n",
    "    for ngram in unique_ngs:\n",
    "        if not ngram in normalized_ngram_frequencies:\n",
    "            normalized_ngram_frequencies[ngram] = 0\n",
    "            \n",
    "        normalized_ngram_frequencies[ngram] = normalized_ngram_frequencies[ngram] + dist.freq(ngram)\n",
    "        \n",
    "for ngram, v in normalized_ngram_frequencies.items():\n",
    "    normalized_ngram_frequencies[ngram] = v / len(songs)"
   ]
  },
  {
   "cell_type": "code",
   "execution_count": 351,
   "metadata": {
    "collapsed": false
   },
   "outputs": [
    {
     "data": {
      "text/plain": [
       "<matplotlib.text.Text at 0x7fb2c06e2ac8>"
      ]
     },
     "execution_count": 351,
     "metadata": {},
     "output_type": "execute_result"
    },
    {
     "data": {
      "image/png": "[encoded data removed]",
      "text/plain": [
       "<matplotlib.figure.Figure at 0x7fb2bfd85160>"
      ]
     },
     "metadata": {},
     "output_type": "display_data"
    }
   ],
   "source": [
    "df = pd.DataFrame.from_dict(normalized_ngram_frequencies, orient='index')\n",
    "word_freq = df.nlargest(10, 0).plot(kind='bar')\n",
    "word_freq.set_xlabel(\"NGram\")\n",
    "word_freq.set_ylabel(\"Distribution\")"
   ]
  },
  {
   "cell_type": "code",
   "execution_count": 355,
   "metadata": {
    "collapsed": false
   },
   "outputs": [
    {
     "data": {
      "text/plain": [
       "<matplotlib.axes._subplots.AxesSubplot at 0x7fb2c02e48d0>"
      ]
     },
     "execution_count": 355,
     "metadata": {},
     "output_type": "execute_result"
    },
    {
     "data": {
      "image/png": "[encoded data removed]",
      "text/plain": [
       "<matplotlib.figure.Figure at 0x7fb2c03a2278>"
      ]
     },
     "metadata": {},
     "output_type": "display_data"
    }
   ],
   "source": [
    "songs_df.plot(x='positive_sentiment', y='rank_differential', kind='scatter')"
   ]
  },
  {
   "cell_type": "code",
   "execution_count": null,
   "metadata": {
    "collapsed": true
   },
   "outputs": [],
   "source": []
  },
  {
   "cell_type": "code",
   "execution_count": null,
   "metadata": {
    "collapsed": true
   },
   "outputs": [],
   "source": []
  },
  {
   "cell_type": "code",
   "execution_count": null,
   "metadata": {
    "collapsed": true
   },
   "outputs": [],
   "source": []
  }
 ],
 "metadata": {
  "kernelspec": {
   "display_name": "Python 3",
   "language": "python",
   "name": "python3"
  },
  "language_info": {
   "codemirror_mode": {
    "name": "ipython",
    "version": 3
   },
   "file_extension": ".py",
   "mimetype": "text/x-python",
   "name": "python",
   "nbconvert_exporter": "python",
   "pygments_lexer": "ipython3",
   "version": "3.5.2"
  }
 },
 "nbformat": 4,
 "nbformat_minor": 2
}
