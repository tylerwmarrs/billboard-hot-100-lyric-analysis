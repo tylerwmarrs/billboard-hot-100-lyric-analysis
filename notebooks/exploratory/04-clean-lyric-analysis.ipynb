{
 "cells": [
  {
   "cell_type": "code",
   "execution_count": 1,
   "metadata": {
    "collapsed": true
   },
   "outputs": [],
   "source": [
    "%matplotlib inline\n",
    "\n",
    "import os\n",
    "import sys\n",
    "nb_dir = os.path.split(os.getcwd())[0]\n",
    "project_dir = os.path.join(nb_dir, os.pardir)\n",
    "\n",
    "if project_dir not in sys.path:\n",
    "   sys.path.append(project_dir)\n",
    "\n",
    "from src import corpus"
   ]
  },
  {
   "cell_type": "markdown",
   "metadata": {},
   "source": [
    "# Load up the songs"
   ]
  },
  {
   "cell_type": "code",
   "execution_count": 2,
   "metadata": {
    "collapsed": false
   },
   "outputs": [],
   "source": [
    "songs = corpus.load_songs(corpus.processed_data_dirs()[0])"
   ]
  },
  {
   "cell_type": "markdown",
   "metadata": {},
   "source": [
    "# NLTK default english stop words"
   ]
  },
  {
   "cell_type": "code",
   "execution_count": 3,
   "metadata": {
    "collapsed": false
   },
   "outputs": [
    {
     "name": "stdout",
     "output_type": "stream",
     "text": [
      "['i', 'me', 'my', 'myself', 'we', 'our', 'ours', 'ourselves', 'you', 'your', 'yours', 'yourself', 'yourselves', 'he', 'him', 'his', 'himself', 'she', 'her', 'hers', 'herself', 'it', 'its', 'itself', 'they', 'them', 'their', 'theirs', 'themselves', 'what', 'which', 'who', 'whom', 'this', 'that', 'these', 'those', 'am', 'is', 'are', 'was', 'were', 'be', 'been', 'being', 'have', 'has', 'had', 'having', 'do', 'does', 'did', 'doing', 'a', 'an', 'the', 'and', 'but', 'if', 'or', 'because', 'as', 'until', 'while', 'of', 'at', 'by', 'for', 'with', 'about', 'against', 'between', 'into', 'through', 'during', 'before', 'after', 'above', 'below', 'to', 'from', 'up', 'down', 'in', 'out', 'on', 'off', 'over', 'under', 'again', 'further', 'then', 'once', 'here', 'there', 'when', 'where', 'why', 'how', 'all', 'any', 'both', 'each', 'few', 'more', 'most', 'other', 'some', 'such', 'no', 'nor', 'not', 'only', 'own', 'same', 'so', 'than', 'too', 'very', 's', 't', 'can', 'will', 'just', 'don', 'should', 'now', 'd', 'll', 'm', 'o', 're', 've', 'y', 'ain', 'aren', 'couldn', 'didn', 'doesn', 'hadn', 'hasn', 'haven', 'isn', 'ma', 'mightn', 'mustn', 'needn', 'shan', 'shouldn', 'wasn', 'weren', 'won', 'wouldn']\n"
     ]
    }
   ],
   "source": [
    "from nltk.corpus import stopwords\n",
    "print(stopwords.words('english'))"
   ]
  },
  {
   "cell_type": "markdown",
   "metadata": {},
   "source": [
    "# Custom stop words list"
   ]
  },
  {
   "cell_type": "code",
   "execution_count": 7,
   "metadata": {
    "collapsed": false
   },
   "outputs": [
    {
     "name": "stdout",
     "output_type": "stream",
     "text": [
      "['a', 'about', 'above', 'across', 'after', 'again', 'against', 'all', 'almost', 'alone', 'along', 'already', 'also', 'although', 'always', 'among', 'an', 'and', 'another', 'any', 'anybody', 'anyone', 'anything', 'anywhere', 'are', 'area', 'areas', 'around', 'as', 'ask', 'asked', 'asking', 'asks', 'at', 'away', 'b', 'back', 'backed', 'backing', 'backs', 'be', 'became', 'because', 'become', 'becomes', 'been', 'before', 'began', 'behind', 'being', 'beings', 'best', 'better', 'between', 'big', 'both', 'but', 'by', 'c', 'came', 'can', 'cannot', 'case', 'cases', 'certain', 'certainly', 'clear', 'clearly', 'come', 'could', 'd', 'did', 'differ', 'different', 'differently', 'do', 'does', 'done', 'down', 'down', 'downed', 'downing', 'downs', 'during', 'e', 'each', 'early', 'either', 'end', 'ended', 'ending', 'ends', 'enough', 'even', 'evenly', 'ever', 'every', 'everybody', 'everyone', 'everything', 'everywhere', 'f', 'face', 'faces', 'fact', 'facts', 'far', 'felt', 'few', 'find', 'finds', 'first', 'for', 'four', 'from', 'full', 'fully', 'further', 'furthered', 'furthering', 'furthers', 'g', 'gave', 'general', 'generally', 'get', 'gets', 'give', 'given', 'gives', 'go', 'going', 'good', 'goods', 'got', 'great', 'greater', 'greatest', 'group', 'grouped', 'grouping', 'groups', 'h', 'had', 'has', 'have', 'having', 'he', 'her', 'here', 'herself', 'high', 'high', 'high', 'higher', 'highest', 'him', 'himself', 'his', 'how', 'however', 'i', 'im', 'if', 'important', 'in', 'interest', 'interested', 'interesting', 'interests', 'into', 'is', 'it', 'its', 'itself', 'j', 'just', 'k', 'keep', 'keeps', 'kind', 'knew', 'know', 'known', 'knows', 'l', 'large', 'largely', 'last', 'later', 'latest', 'least', 'less', 'let', 'lets', 'like', 'likely', 'long', 'longer', 'longest', 'm', 'made', 'make', 'making', 'man', 'many', 'may', 'me', 'member', 'members', 'men', 'might', 'more', 'most', 'mostly', 'mr', 'mrs', 'much', 'must', 'my', 'myself', 'n', 'necessary', 'need', 'needed', 'needing', 'needs', 'never', 'new', 'new', 'newer', 'newest', 'next', 'no', 'nobody', 'non', 'noone', 'not', 'nothing', 'now', 'nowhere', 'number', 'numbers', 'o', 'oh', 'of', 'off', 'often', 'old', 'older', 'oldest', 'on', 'once', 'one', 'only', 'open', 'opened', 'opening', 'opens', 'or', 'order', 'ordered', 'ordering', 'orders', 'other', 'others', 'our', 'out', 'over', 'p', 'part', 'parted', 'parting', 'parts', 'per', 'perhaps', 'place', 'places', 'point', 'pointed', 'pointing', 'points', 'possible', 'present', 'presented', 'presenting', 'presents', 'problem', 'problems', 'put', 'puts', 'q', 'quite', 'r', 'rather', 'really', 'right', 'right', 'room', 'rooms', 's', 'said', 'same', 'saw', 'say', 'says', 'second', 'seconds', 'see', 'seem', 'seemed', 'seeming', 'seems', 'sees', 'several', 'shall', 'she', 'should', 'show', 'showed', 'showing', 'shows', 'side', 'sides', 'since', 'small', 'smaller', 'smallest', 'so', 'some', 'somebody', 'someone', 'something', 'somewhere', 'state', 'states', 'still', 'still', 'such', 'sure', 't', 'take', 'taken', 'than', 'that', 'the', 'their', 'them', 'then', 'there', 'therefore', 'these', 'they', 'thing', 'things', 'think', 'thinks', 'this', 'those', 'though', 'thought', 'thoughts', 'three', 'through', 'thus', 'to', 'today', 'together', 'too', 'took', 'toward', 'turn', 'turned', 'turning', 'turns', 'two', 'u', 'under', 'until', 'up', 'upon', 'us', 'use', 'used', 'uses', 'v', 'very', 'w', 'want', 'wanted', 'wanting', 'wants', 'was', 'way', 'ways', 'we', 'well', 'wells', 'went', 'were', 'what', 'when', 'where', 'whether', 'which', 'while', 'who', 'whole', 'whose', 'why', 'will', 'with', 'within', 'without', 'work', 'worked', 'working', 'works', 'would', 'x', 'y', 'year', 'years', 'yet', 'you', 'young', 'younger', 'youngest', 'your', 'youre', 'yours', 'z']\n"
     ]
    }
   ],
   "source": [
    "print(corpus.stop_words())"
   ]
  },
  {
   "cell_type": "markdown",
   "metadata": {},
   "source": [
    "# Get normalized frequency of words\n",
    "\n",
    "Look at all distributions of words in a song individually and normalize by the number of songs. This is a better approach than looking at each word as a total bag of words in all songs. Some of these songs have super repitive words in one song which throws off the overall distribution."
   ]
  },
  {
   "cell_type": "code",
   "execution_count": 12,
   "metadata": {
    "collapsed": false
   },
   "outputs": [],
   "source": [
    "import string\n",
    "import unicodedata\n",
    "import sys\n",
    "\n",
    "from nltk.corpus import stopwords\n",
    "from nltk.tokenize import word_tokenize\n",
    "from nltk import FreqDist\n",
    "\n",
    "import pandas as pd\n",
    "\n",
    "punc_tbl = dict.fromkeys(i for i in range(sys.maxunicode)\n",
    "                      if unicodedata.category(chr(i)).startswith('P'))\n",
    "\n",
    "def remove_punctuation(text):\n",
    "    return text.translate(punc_tbl)\n",
    "\n",
    "def remove_stop_words(words):\n",
    "    \"\"\"Remove stop words from a list of words.\"\"\"\n",
    "    wl = []    \n",
    "    stop_words = corpus.stop_words()\n",
    "    for word in words:\n",
    "        word = word.lower()\n",
    "        if word not in stop_words:\n",
    "            wl.append(word)\n",
    "    \n",
    "    return wl\n",
    "\n",
    "normalized_word_frequencies = {}\n",
    "\n",
    "for song in songs:\n",
    "    song['word_lyrics'] = remove_stop_words(word_tokenize(remove_punctuation(song['lyrics'])))    \n",
    "    dist = FreqDist(song['word_lyrics'])\n",
    "\n",
    "    for w in dist:\n",
    "        if not w in normalized_word_frequencies:\n",
    "            normalized_word_frequencies[w] = 0\n",
    "\n",
    "        normalized_word_frequencies[w] = normalized_word_frequencies[w] + dist.freq(w)\n",
    "        \n",
    "for w, v in normalized_word_frequencies.items():\n",
    "    normalized_word_frequencies[w] = v / len(songs)"
   ]
  },
  {
   "cell_type": "markdown",
   "metadata": {},
   "source": [
    "# Plot the word distributions"
   ]
  },
  {
   "cell_type": "code",
   "execution_count": 15,
   "metadata": {
    "collapsed": false
   },
   "outputs": [
    {
     "data": {
      "text/plain": [
       "<matplotlib.text.Text at 0x7f72c89ac0b8>"
      ]
     },
     "execution_count": 15,
     "metadata": {},
     "output_type": "execute_result"
    },
    {
     "data": {
      "image/png": "[encoded data removed]",
      "text/plain": [
       "<matplotlib.figure.Figure at 0x7f72c8854a20>"
      ]
     },
     "metadata": {},
     "output_type": "display_data"
    }
   ],
   "source": [
    "df = pd.DataFrame.from_dict(normalized_word_frequencies, orient='index')\n",
    "word_freq = df.nlargest(25, 0).plot(kind='bar')\n",
    "word_freq.set_xlabel(\"Word\")\n",
    "word_freq.set_ylabel(\"Distribution\")"
   ]
  },
  {
   "cell_type": "markdown",
   "metadata": {},
   "source": [
    "# Normalize and stem words"
   ]
  },
  {
   "cell_type": "code",
   "execution_count": 13,
   "metadata": {
    "collapsed": true
   },
   "outputs": [],
   "source": [
    "from nltk.stem import PorterStemmer\n",
    "\n",
    "def stem_words(words):\n",
    "    stemmer = PorterStemmer()\n",
    "    return [stemmer.stem(w) for w in words]\n",
    "\n",
    "normalized_word_frequencies = {}\n",
    "\n",
    "for song in songs:\n",
    "    song['word_lyrics'] = stem_words(remove_stop_words(word_tokenize(remove_punctuation(song['lyrics']))))\n",
    "    dist = FreqDist(song['word_lyrics'])\n",
    "\n",
    "    for w in dist:\n",
    "        if not w in normalized_word_frequencies:\n",
    "            normalized_word_frequencies[w] = 0\n",
    "\n",
    "        normalized_word_frequencies[w] = normalized_word_frequencies[w] + dist.freq(w)\n",
    "        \n",
    "for w, v in normalized_word_frequencies.items():\n",
    "    normalized_word_frequencies[w] = v / len(songs)"
   ]
  },
  {
   "cell_type": "code",
   "execution_count": 14,
   "metadata": {
    "collapsed": false
   },
   "outputs": [
    {
     "data": {
      "text/plain": [
       "<matplotlib.text.Text at 0x7f72ca85e320>"
      ]
     },
     "execution_count": 14,
     "metadata": {},
     "output_type": "execute_result"
    },
    {
     "data": {
      "image/png": "[encoded data removed]",
      "text/plain": [
       "<matplotlib.figure.Figure at 0x7f72ca8720f0>"
      ]
     },
     "metadata": {},
     "output_type": "display_data"
    }
   ],
   "source": [
    "df = pd.DataFrame.from_dict(normalized_word_frequencies, orient='index')\n",
    "word_freq = df.nlargest(25, 0).plot(kind='bar')\n",
    "word_freq.set_xlabel(\"Word\")\n",
    "word_freq.set_ylabel(\"Distribution\")"
   ]
  },
  {
   "cell_type": "markdown",
   "metadata": {},
   "source": [
    "# Stemmed and normalized swear word frequency"
   ]
  },
  {
   "cell_type": "code",
   "execution_count": 20,
   "metadata": {
    "collapsed": false
   },
   "outputs": [],
   "source": [
    "swear_words = set(stem_words(corpus.swear_words()))\n",
    "\n",
    "normalized_word_frequencies = {}\n",
    "\n",
    "for song in songs:\n",
    "    song['word_lyrics'] = stem_words(remove_stop_words(word_tokenize(remove_punctuation(song['lyrics']))))\n",
    "    dist = FreqDist(song['word_lyrics'])\n",
    "\n",
    "    for sw in swear_words:\n",
    "        if not sw in normalized_word_frequencies:\n",
    "            normalized_word_frequencies[sw] = 0\n",
    "\n",
    "        normalized_word_frequencies[sw] = normalized_word_frequencies[sw] + dist.freq(sw)\n",
    "        \n",
    "for w, v in normalized_word_frequencies.items():\n",
    "    normalized_word_frequencies[w] = v / len(songs)"
   ]
  },
  {
   "cell_type": "code",
   "execution_count": 25,
   "metadata": {
    "collapsed": false
   },
   "outputs": [
    {
     "data": {
      "text/plain": [
       "<matplotlib.text.Text at 0x7f72c70ef550>"
      ]
     },
     "execution_count": 25,
     "metadata": {},
     "output_type": "execute_result"
    },
    {
     "data": {
      "image/png": "[encoded data removed]",
      "text/plain": [
       "<matplotlib.figure.Figure at 0x7f72c7054c50>"
      ]
     },
     "metadata": {},
     "output_type": "display_data"
    }
   ],
   "source": [
    "df = pd.DataFrame.from_dict(normalized_word_frequencies, orient='index')\n",
    "word_freq = df.nlargest(10, 0).plot(kind='bar')\n",
    "word_freq.set_xlabel(\"Word\")\n",
    "word_freq.set_ylabel(\"Distribution\")"
   ]
  },
  {
   "cell_type": "markdown",
   "metadata": {},
   "source": [
    "# Sentiment analysis with Vader"
   ]
  },
  {
   "cell_type": "code",
   "execution_count": 59,
   "metadata": {
    "collapsed": false
   },
   "outputs": [
    {
     "name": "stdout",
     "output_type": "stream",
     "text": [
      "{'positive': 0.1183398050326793, 'negative': 0.08676645705321523, 'neutral': 0.7949030990057524, 'compound': 0.03203135021835066}\n"
     ]
    }
   ],
   "source": [
    "from nltk.sentiment.vader import SentimentIntensityAnalyzer\n",
    "from nltk.tokenize import sent_tokenize\n",
    "\n",
    "\n",
    "def split_sentences(text):\n",
    "    sentences = []\n",
    "    for sentence in text.split('\\n'):\n",
    "        sentence = sentence.strip()\n",
    "        \n",
    "        if sentence:\n",
    "            sentences.append(sentence)\n",
    "\n",
    "    return sentences\n",
    "\n",
    "\n",
    "def sentiment_for_song(text):\n",
    "    sid = SentimentIntensityAnalyzer()\n",
    "\n",
    "    # can't use sent_tokenize with lyrics... just split on newline\n",
    "    sentences = split_sentences(text)\n",
    "    total_ss = {\n",
    "        'negative': 0,\n",
    "        'positive': 0,\n",
    "        'neutral': 0,\n",
    "        'compound': 0\n",
    "    }\n",
    "\n",
    "    for sentence in sentences:\n",
    "        ss = sid.polarity_scores(sentence)\n",
    "        total_ss['negative'] = total_ss['negative'] + ss['neg']\n",
    "        total_ss['positive'] = total_ss['positive'] + ss['pos']\n",
    "        total_ss['neutral'] = total_ss['neutral'] + ss['neu']\n",
    "        total_ss['compound'] = total_ss['compound'] + ss['compound']\n",
    "        \n",
    "    for key in total_ss:\n",
    "        total_ss[key] = total_ss[key] / len(sentences)\n",
    "        \n",
    "    return total_ss\n",
    "\n",
    "all_sentiments = {}\n",
    "for song in songs:\n",
    "    sentiments = sentiment_for_song(song['lyrics'])\n",
    "\n",
    "    # add sentiment to song data\n",
    "    song['positive_sentiment'] = sentiments['positive']\n",
    "    song['negative_sentiment'] = sentiments['negative']\n",
    "    song['neutral_sentiment'] = sentiments['neutral']\n",
    "    \n",
    "    for key in sentiments:\n",
    "        if key not in all_sentiments:\n",
    "            all_sentiments[key] = 0\n",
    "            \n",
    "        all_sentiments[key] = all_sentiments[key] + sentiments[key]\n",
    "\n",
    "# normalize for number of songs\n",
    "for key in all_sentiments:\n",
    "    all_sentiments[key] = all_sentiments[key] / len(songs)\n",
    "\n",
    "print(all_sentiments)"
   ]
  },
  {
   "cell_type": "markdown",
   "metadata": {},
   "source": [
    "# Plot sentiments"
   ]
  },
  {
   "cell_type": "code",
   "execution_count": 58,
   "metadata": {
    "collapsed": false
   },
   "outputs": [
    {
     "data": {
      "text/plain": [
       "<matplotlib.text.Text at 0x7f72c77b5a90>"
      ]
     },
     "execution_count": 58,
     "metadata": {},
     "output_type": "execute_result"
    },
    {
     "data": {
      "image/png": "[encoded data removed]",
      "text/plain": [
       "<matplotlib.figure.Figure at 0x7f72c7022550>"
      ]
     },
     "metadata": {},
     "output_type": "display_data"
    }
   ],
   "source": [
    "all_sentiments.pop('compound', 0)\n",
    "df = pd.DataFrame.from_dict(all_sentiments, orient='index')\n",
    "sent_plot = df.nlargest(10, 0).plot(kind='bar')\n",
    "sent_plot.set_xlabel(\"Word\")\n",
    "sent_plot.set_ylabel(\"Distribution\")"
   ]
  },
  {
   "cell_type": "markdown",
   "metadata": {},
   "source": [
    "# 5 most negative songs"
   ]
  },
  {
   "cell_type": "code",
   "execution_count": 61,
   "metadata": {
    "collapsed": false
   },
   "outputs": [
    {
     "data": {
      "text/html": [
       "<div>\n",
       "<table border=\"1\" class=\"dataframe\">\n",
       "  <thead>\n",
       "    <tr style=\"text-align: right;\">\n",
       "      <th></th>\n",
       "      <th>artist</th>\n",
       "      <th>lyrics</th>\n",
       "      <th>lyrics_file</th>\n",
       "      <th>lyrics_file_path</th>\n",
       "      <th>lyrics_source</th>\n",
       "      <th>negative_sentiment</th>\n",
       "      <th>neutral_sentiment</th>\n",
       "      <th>positive_sentiment</th>\n",
       "      <th>rank_last_week</th>\n",
       "      <th>rank_this_week</th>\n",
       "      <th>title</th>\n",
       "      <th>word_lyrics</th>\n",
       "    </tr>\n",
       "  </thead>\n",
       "  <tbody>\n",
       "    <tr>\n",
       "      <th>18</th>\n",
       "      <td>Jon Bellion</td>\n",
       "      <td>Low low low low low\\nLow low low low low low l...</td>\n",
       "      <td>jon-bellion-all-time-low.txt</td>\n",
       "      <td>/media/sf_D_DRIVE/jupyter/tyler/billboard_hot_...</td>\n",
       "      <td>songlyrics.com</td>\n",
       "      <td>0.648732</td>\n",
       "      <td>0.314293</td>\n",
       "      <td>0.036976</td>\n",
       "      <td>22</td>\n",
       "      <td>19</td>\n",
       "      <td>All Time Low</td>\n",
       "      <td>[low, low, low, low, low, low, low, low, low, ...</td>\n",
       "    </tr>\n",
       "    <tr>\n",
       "      <th>64</th>\n",
       "      <td>Auli'i Cravalho</td>\n",
       "      <td>I got this feeling on the summer day when you ...</td>\n",
       "      <td>aulii-cravalho-how-far-ill-go.txt</td>\n",
       "      <td>/media/sf_D_DRIVE/jupyter/tyler/billboard_hot_...</td>\n",
       "      <td>songlyrics.com</td>\n",
       "      <td>0.342167</td>\n",
       "      <td>0.566556</td>\n",
       "      <td>0.091278</td>\n",
       "      <td>67</td>\n",
       "      <td>65</td>\n",
       "      <td>How Far I'll Go</td>\n",
       "      <td>[feel, summer, day, gone, crash, car, bridg, w...</td>\n",
       "    </tr>\n",
       "    <tr>\n",
       "      <th>88</th>\n",
       "      <td>Marshmello</td>\n",
       "      <td>I'm so alone\\nNothing feels like home\\nI'm so ...</td>\n",
       "      <td>marshmello-alone.txt</td>\n",
       "      <td>/media/sf_D_DRIVE/jupyter/tyler/billboard_hot_...</td>\n",
       "      <td>songlyrics.com</td>\n",
       "      <td>0.267000</td>\n",
       "      <td>0.642000</td>\n",
       "      <td>0.091000</td>\n",
       "      <td>60</td>\n",
       "      <td>89</td>\n",
       "      <td>Alone</td>\n",
       "      <td>[feel, home, tri, home, feel, home, tri, home,...</td>\n",
       "    </tr>\n",
       "    <tr>\n",
       "      <th>98</th>\n",
       "      <td>Ugly God</td>\n",
       "      <td>I drip on your bitch like water\\nI splash on y...</td>\n",
       "      <td>ugly-god-water.txt</td>\n",
       "      <td>/media/sf_D_DRIVE/jupyter/tyler/billboard_hot_...</td>\n",
       "      <td>songlyrics.com</td>\n",
       "      <td>0.266914</td>\n",
       "      <td>0.551886</td>\n",
       "      <td>0.181229</td>\n",
       "      <td>80</td>\n",
       "      <td>99</td>\n",
       "      <td>Water</td>\n",
       "      <td>[drip, bitch, water, splash, bitch, water, fee...</td>\n",
       "    </tr>\n",
       "    <tr>\n",
       "      <th>60</th>\n",
       "      <td>21 Savage &amp; Metro Boomin</td>\n",
       "      <td>\\nYoung Savage, why you trappin' so hard?\\nWhy...</td>\n",
       "      <td>21-savage-metro-boomin-no-heart.txt</td>\n",
       "      <td>/media/sf_D_DRIVE/jupyter/tyler/billboard_hot_...</td>\n",
       "      <td>songlyrics.com</td>\n",
       "      <td>0.219706</td>\n",
       "      <td>0.716279</td>\n",
       "      <td>0.064000</td>\n",
       "      <td>50</td>\n",
       "      <td>61</td>\n",
       "      <td>No Heart</td>\n",
       "      <td>[savag, trappin, hard, nigga, cappin, hard, 12...</td>\n",
       "    </tr>\n",
       "  </tbody>\n",
       "</table>\n",
       "</div>"
      ],
      "text/plain": [
       "                      artist  \\\n",
       "18               Jon Bellion   \n",
       "64           Auli'i Cravalho   \n",
       "88                Marshmello   \n",
       "98                  Ugly God   \n",
       "60  21 Savage & Metro Boomin   \n",
       "\n",
       "                                               lyrics  \\\n",
       "18  Low low low low low\\nLow low low low low low l...   \n",
       "64  I got this feeling on the summer day when you ...   \n",
       "88  I'm so alone\\nNothing feels like home\\nI'm so ...   \n",
       "98  I drip on your bitch like water\\nI splash on y...   \n",
       "60  \\nYoung Savage, why you trappin' so hard?\\nWhy...   \n",
       "\n",
       "                            lyrics_file  \\\n",
       "18         jon-bellion-all-time-low.txt   \n",
       "64    aulii-cravalho-how-far-ill-go.txt   \n",
       "88                 marshmello-alone.txt   \n",
       "98                   ugly-god-water.txt   \n",
       "60  21-savage-metro-boomin-no-heart.txt   \n",
       "\n",
       "                                     lyrics_file_path   lyrics_source  \\\n",
       "18  /media/sf_D_DRIVE/jupyter/tyler/billboard_hot_...  songlyrics.com   \n",
       "64  /media/sf_D_DRIVE/jupyter/tyler/billboard_hot_...  songlyrics.com   \n",
       "88  /media/sf_D_DRIVE/jupyter/tyler/billboard_hot_...  songlyrics.com   \n",
       "98  /media/sf_D_DRIVE/jupyter/tyler/billboard_hot_...  songlyrics.com   \n",
       "60  /media/sf_D_DRIVE/jupyter/tyler/billboard_hot_...  songlyrics.com   \n",
       "\n",
       "    negative_sentiment  neutral_sentiment  positive_sentiment rank_last_week  \\\n",
       "18            0.648732           0.314293            0.036976             22   \n",
       "64            0.342167           0.566556            0.091278             67   \n",
       "88            0.267000           0.642000            0.091000             60   \n",
       "98            0.266914           0.551886            0.181229             80   \n",
       "60            0.219706           0.716279            0.064000             50   \n",
       "\n",
       "   rank_this_week            title  \\\n",
       "18             19     All Time Low   \n",
       "64             65  How Far I'll Go   \n",
       "88             89            Alone   \n",
       "98             99            Water   \n",
       "60             61         No Heart   \n",
       "\n",
       "                                          word_lyrics  \n",
       "18  [low, low, low, low, low, low, low, low, low, ...  \n",
       "64  [feel, summer, day, gone, crash, car, bridg, w...  \n",
       "88  [feel, home, tri, home, feel, home, tri, home,...  \n",
       "98  [drip, bitch, water, splash, bitch, water, fee...  \n",
       "60  [savag, trappin, hard, nigga, cappin, hard, 12...  "
      ]
     },
     "execution_count": 61,
     "metadata": {},
     "output_type": "execute_result"
    }
   ],
   "source": [
    "songs_df = pd.DataFrame.from_dict(songs)\n",
    "songs_df.nlargest(5, 'negative_sentiment')"
   ]
  },
  {
   "cell_type": "markdown",
   "metadata": {},
   "source": [
    "# 5 most positive songs"
   ]
  },
  {
   "cell_type": "code",
   "execution_count": 62,
   "metadata": {
    "collapsed": false
   },
   "outputs": [
    {
     "data": {
      "text/html": [
       "<div>\n",
       "<table border=\"1\" class=\"dataframe\">\n",
       "  <thead>\n",
       "    <tr style=\"text-align: right;\">\n",
       "      <th></th>\n",
       "      <th>artist</th>\n",
       "      <th>lyrics</th>\n",
       "      <th>lyrics_file</th>\n",
       "      <th>lyrics_file_path</th>\n",
       "      <th>lyrics_source</th>\n",
       "      <th>negative_sentiment</th>\n",
       "      <th>neutral_sentiment</th>\n",
       "      <th>positive_sentiment</th>\n",
       "      <th>rank_last_week</th>\n",
       "      <th>rank_this_week</th>\n",
       "      <th>title</th>\n",
       "      <th>word_lyrics</th>\n",
       "    </tr>\n",
       "  </thead>\n",
       "  <tbody>\n",
       "    <tr>\n",
       "      <th>37</th>\n",
       "      <td>Sia Featuring Kendrick Lamar</td>\n",
       "      <td>Uh-oh, running out of breath, but I\\nOh, I, I ...</td>\n",
       "      <td>sia-featuring-kendrick-lamar-the-greatest.txt</td>\n",
       "      <td>/media/sf_D_DRIVE/jupyter/tyler/billboard_hot_...</td>\n",
       "      <td>songlyrics.com</td>\n",
       "      <td>0.014704</td>\n",
       "      <td>0.579225</td>\n",
       "      <td>0.406085</td>\n",
       "      <td>39</td>\n",
       "      <td>38</td>\n",
       "      <td>The Greatest</td>\n",
       "      <td>[uhoh, run, breath, stamina, uhoh, run, close,...</td>\n",
       "    </tr>\n",
       "    <tr>\n",
       "      <th>32</th>\n",
       "      <td>John Legend</td>\n",
       "      <td>Pulling me further, further than I've been bef...</td>\n",
       "      <td>john-legend-love-me-now.txt</td>\n",
       "      <td>/media/sf_D_DRIVE/jupyter/tyler/billboard_hot_...</td>\n",
       "      <td>songlyrics.com</td>\n",
       "      <td>0.059218</td>\n",
       "      <td>0.641345</td>\n",
       "      <td>0.299418</td>\n",
       "      <td>31</td>\n",
       "      <td>33</td>\n",
       "      <td>Love Me Now</td>\n",
       "      <td>[pull, ive, stronger, shake, core, dont, what,...</td>\n",
       "    </tr>\n",
       "    <tr>\n",
       "      <th>34</th>\n",
       "      <td>Little Big Town</td>\n",
       "      <td>I know I'm probably better off on my own\\nThan...</td>\n",
       "      <td>little-big-town-better-man.txt</td>\n",
       "      <td>/media/sf_D_DRIVE/jupyter/tyler/billboard_hot_...</td>\n",
       "      <td>songlyrics.com</td>\n",
       "      <td>0.044571</td>\n",
       "      <td>0.659024</td>\n",
       "      <td>0.296286</td>\n",
       "      <td>41</td>\n",
       "      <td>35</td>\n",
       "      <td>Better Man</td>\n",
       "      <td>[probabl, own, love, didnt, perman, damag, wis...</td>\n",
       "    </tr>\n",
       "    <tr>\n",
       "      <th>90</th>\n",
       "      <td>John Mayer</td>\n",
       "      <td>\\nIt's a Friday, we finally made it\\nI can't b...</td>\n",
       "      <td>john-mayer-love-on-the-weekend.txt</td>\n",
       "      <td>/media/sf_D_DRIVE/jupyter/tyler/billboard_hot_...</td>\n",
       "      <td>songlyrics.com</td>\n",
       "      <td>0.028432</td>\n",
       "      <td>0.684568</td>\n",
       "      <td>0.287027</td>\n",
       "      <td>0</td>\n",
       "      <td>91</td>\n",
       "      <td>Love On The Weekend</td>\n",
       "      <td>[friday, final, cant, believ, youv, ive, wait,...</td>\n",
       "    </tr>\n",
       "    <tr>\n",
       "      <th>69</th>\n",
       "      <td>Andy Grammer</td>\n",
       "      <td>I got these fresh eyes, never seen you before ...</td>\n",
       "      <td>andy-grammer-fresh-eyes.txt</td>\n",
       "      <td>/media/sf_D_DRIVE/jupyter/tyler/billboard_hot_...</td>\n",
       "      <td>songlyrics.com</td>\n",
       "      <td>0.027200</td>\n",
       "      <td>0.727857</td>\n",
       "      <td>0.244943</td>\n",
       "      <td>68</td>\n",
       "      <td>70</td>\n",
       "      <td>Fresh Eyes</td>\n",
       "      <td>[fresh, eye, seen, god, beauti, time, door, us...</td>\n",
       "    </tr>\n",
       "  </tbody>\n",
       "</table>\n",
       "</div>"
      ],
      "text/plain": [
       "                          artist  \\\n",
       "37  Sia Featuring Kendrick Lamar   \n",
       "32                   John Legend   \n",
       "34               Little Big Town   \n",
       "90                    John Mayer   \n",
       "69                  Andy Grammer   \n",
       "\n",
       "                                               lyrics  \\\n",
       "37  Uh-oh, running out of breath, but I\\nOh, I, I ...   \n",
       "32  Pulling me further, further than I've been bef...   \n",
       "34  I know I'm probably better off on my own\\nThan...   \n",
       "90  \\nIt's a Friday, we finally made it\\nI can't b...   \n",
       "69  I got these fresh eyes, never seen you before ...   \n",
       "\n",
       "                                      lyrics_file  \\\n",
       "37  sia-featuring-kendrick-lamar-the-greatest.txt   \n",
       "32                    john-legend-love-me-now.txt   \n",
       "34                 little-big-town-better-man.txt   \n",
       "90             john-mayer-love-on-the-weekend.txt   \n",
       "69                    andy-grammer-fresh-eyes.txt   \n",
       "\n",
       "                                     lyrics_file_path   lyrics_source  \\\n",
       "37  /media/sf_D_DRIVE/jupyter/tyler/billboard_hot_...  songlyrics.com   \n",
       "32  /media/sf_D_DRIVE/jupyter/tyler/billboard_hot_...  songlyrics.com   \n",
       "34  /media/sf_D_DRIVE/jupyter/tyler/billboard_hot_...  songlyrics.com   \n",
       "90  /media/sf_D_DRIVE/jupyter/tyler/billboard_hot_...  songlyrics.com   \n",
       "69  /media/sf_D_DRIVE/jupyter/tyler/billboard_hot_...  songlyrics.com   \n",
       "\n",
       "    negative_sentiment  neutral_sentiment  positive_sentiment rank_last_week  \\\n",
       "37            0.014704           0.579225            0.406085             39   \n",
       "32            0.059218           0.641345            0.299418             31   \n",
       "34            0.044571           0.659024            0.296286             41   \n",
       "90            0.028432           0.684568            0.287027              0   \n",
       "69            0.027200           0.727857            0.244943             68   \n",
       "\n",
       "   rank_this_week                title  \\\n",
       "37             38         The Greatest   \n",
       "32             33          Love Me Now   \n",
       "34             35           Better Man   \n",
       "90             91  Love On The Weekend   \n",
       "69             70           Fresh Eyes   \n",
       "\n",
       "                                          word_lyrics  \n",
       "37  [uhoh, run, breath, stamina, uhoh, run, close,...  \n",
       "32  [pull, ive, stronger, shake, core, dont, what,...  \n",
       "34  [probabl, own, love, didnt, perman, damag, wis...  \n",
       "90  [friday, final, cant, believ, youv, ive, wait,...  \n",
       "69  [fresh, eye, seen, god, beauti, time, door, us...  "
      ]
     },
     "execution_count": 62,
     "metadata": {},
     "output_type": "execute_result"
    }
   ],
   "source": [
    "songs_df.nlargest(5, 'positive_sentiment')"
   ]
  },
  {
   "cell_type": "markdown",
   "metadata": {},
   "source": [
    "# 5 most neutral songs"
   ]
  },
  {
   "cell_type": "code",
   "execution_count": 63,
   "metadata": {
    "collapsed": false
   },
   "outputs": [
    {
     "data": {
      "text/html": [
       "<div>\n",
       "<table border=\"1\" class=\"dataframe\">\n",
       "  <thead>\n",
       "    <tr style=\"text-align: right;\">\n",
       "      <th></th>\n",
       "      <th>artist</th>\n",
       "      <th>lyrics</th>\n",
       "      <th>lyrics_file</th>\n",
       "      <th>lyrics_file_path</th>\n",
       "      <th>lyrics_source</th>\n",
       "      <th>negative_sentiment</th>\n",
       "      <th>neutral_sentiment</th>\n",
       "      <th>positive_sentiment</th>\n",
       "      <th>rank_last_week</th>\n",
       "      <th>rank_this_week</th>\n",
       "      <th>title</th>\n",
       "      <th>word_lyrics</th>\n",
       "    </tr>\n",
       "  </thead>\n",
       "  <tbody>\n",
       "    <tr>\n",
       "      <th>17</th>\n",
       "      <td>The Weeknd Featuring Daft Punk</td>\n",
       "      <td>We do not have the lyrics for I Feel It Coming...</td>\n",
       "      <td>the-weeknd-featuring-daft-punk-i-feel-it-comin...</td>\n",
       "      <td>/media/sf_D_DRIVE/jupyter/tyler/billboard_hot_...</td>\n",
       "      <td>songlyrics.com</td>\n",
       "      <td>0.000000</td>\n",
       "      <td>1.000000</td>\n",
       "      <td>0.000000</td>\n",
       "      <td>19</td>\n",
       "      <td>18</td>\n",
       "      <td>I Feel It Coming</td>\n",
       "      <td>[lyric, feel, come, origin, perform, weeknd]</td>\n",
       "    </tr>\n",
       "    <tr>\n",
       "      <th>51</th>\n",
       "      <td>Marian Hill</td>\n",
       "      <td>Didn't even really wanna go\\nBut if you get me...</td>\n",
       "      <td>marian-hill-down.txt</td>\n",
       "      <td>/media/sf_D_DRIVE/jupyter/tyler/billboard_hot_...</td>\n",
       "      <td>songlyrics.com</td>\n",
       "      <td>0.018386</td>\n",
       "      <td>0.955159</td>\n",
       "      <td>0.026455</td>\n",
       "      <td>99</td>\n",
       "      <td>52</td>\n",
       "      <td>Down</td>\n",
       "      <td>[didnt, wan, na, there, bodi, floor, babi, add...</td>\n",
       "    </tr>\n",
       "    <tr>\n",
       "      <th>68</th>\n",
       "      <td>Brett Eldredge</td>\n",
       "      <td>The radio and a sundress\\nMakin' my world all ...</td>\n",
       "      <td>brett-eldredge-wanna-be-that-song.txt</td>\n",
       "      <td>/media/sf_D_DRIVE/jupyter/tyler/billboard_hot_...</td>\n",
       "      <td>songlyrics.com</td>\n",
       "      <td>0.038955</td>\n",
       "      <td>0.952212</td>\n",
       "      <td>0.008833</td>\n",
       "      <td>64</td>\n",
       "      <td>69</td>\n",
       "      <td>Wanna Be That Song</td>\n",
       "      <td>[radio, sundress, makin, world, mess, corner, ...</td>\n",
       "    </tr>\n",
       "    <tr>\n",
       "      <th>76</th>\n",
       "      <td>Luis Fonsi Featuring Daddy Yankee</td>\n",
       "      <td>Ay \\nFonsi \\nDY \\nOh oh… \\nOh no, oh no… \\nOh ...</td>\n",
       "      <td>luis-fonsi-featuring-daddy-yankee-despacito.txt</td>\n",
       "      <td>/media/sf_D_DRIVE/jupyter/tyler/billboard_hot_...</td>\n",
       "      <td>songlyrics.com</td>\n",
       "      <td>0.016727</td>\n",
       "      <td>0.945045</td>\n",
       "      <td>0.038227</td>\n",
       "      <td>88</td>\n",
       "      <td>77</td>\n",
       "      <td>Despacito</td>\n",
       "      <td>[ay, fonsi, dy, yeah, dididiri, daddi, sí, sab...</td>\n",
       "    </tr>\n",
       "    <tr>\n",
       "      <th>67</th>\n",
       "      <td>Alessia Cara</td>\n",
       "      <td>Wooohhhh\\n\\nYou sheltered me from harm\\nKept m...</td>\n",
       "      <td>alessia-cara-how-far-ill-go.txt</td>\n",
       "      <td>/media/sf_D_DRIVE/jupyter/tyler/billboard_hot_...</td>\n",
       "      <td>songlyrics.com</td>\n",
       "      <td>0.015731</td>\n",
       "      <td>0.929423</td>\n",
       "      <td>0.054846</td>\n",
       "      <td>56</td>\n",
       "      <td>68</td>\n",
       "      <td>How Far I'll Go</td>\n",
       "      <td>[wooohhhh, shelter, harm, kept, warm, kept, wa...</td>\n",
       "    </tr>\n",
       "  </tbody>\n",
       "</table>\n",
       "</div>"
      ],
      "text/plain": [
       "                               artist  \\\n",
       "17     The Weeknd Featuring Daft Punk   \n",
       "51                        Marian Hill   \n",
       "68                     Brett Eldredge   \n",
       "76  Luis Fonsi Featuring Daddy Yankee   \n",
       "67                       Alessia Cara   \n",
       "\n",
       "                                               lyrics  \\\n",
       "17  We do not have the lyrics for I Feel It Coming...   \n",
       "51  Didn't even really wanna go\\nBut if you get me...   \n",
       "68  The radio and a sundress\\nMakin' my world all ...   \n",
       "76  Ay \\nFonsi \\nDY \\nOh oh… \\nOh no, oh no… \\nOh ...   \n",
       "67  Wooohhhh\\n\\nYou sheltered me from harm\\nKept m...   \n",
       "\n",
       "                                          lyrics_file  \\\n",
       "17  the-weeknd-featuring-daft-punk-i-feel-it-comin...   \n",
       "51                               marian-hill-down.txt   \n",
       "68              brett-eldredge-wanna-be-that-song.txt   \n",
       "76    luis-fonsi-featuring-daddy-yankee-despacito.txt   \n",
       "67                    alessia-cara-how-far-ill-go.txt   \n",
       "\n",
       "                                     lyrics_file_path   lyrics_source  \\\n",
       "17  /media/sf_D_DRIVE/jupyter/tyler/billboard_hot_...  songlyrics.com   \n",
       "51  /media/sf_D_DRIVE/jupyter/tyler/billboard_hot_...  songlyrics.com   \n",
       "68  /media/sf_D_DRIVE/jupyter/tyler/billboard_hot_...  songlyrics.com   \n",
       "76  /media/sf_D_DRIVE/jupyter/tyler/billboard_hot_...  songlyrics.com   \n",
       "67  /media/sf_D_DRIVE/jupyter/tyler/billboard_hot_...  songlyrics.com   \n",
       "\n",
       "    negative_sentiment  neutral_sentiment  positive_sentiment rank_last_week  \\\n",
       "17            0.000000           1.000000            0.000000             19   \n",
       "51            0.018386           0.955159            0.026455             99   \n",
       "68            0.038955           0.952212            0.008833             64   \n",
       "76            0.016727           0.945045            0.038227             88   \n",
       "67            0.015731           0.929423            0.054846             56   \n",
       "\n",
       "   rank_this_week               title  \\\n",
       "17             18    I Feel It Coming   \n",
       "51             52                Down   \n",
       "68             69  Wanna Be That Song   \n",
       "76             77           Despacito   \n",
       "67             68     How Far I'll Go   \n",
       "\n",
       "                                          word_lyrics  \n",
       "17       [lyric, feel, come, origin, perform, weeknd]  \n",
       "51  [didnt, wan, na, there, bodi, floor, babi, add...  \n",
       "68  [radio, sundress, makin, world, mess, corner, ...  \n",
       "76  [ay, fonsi, dy, yeah, dididiri, daddi, sí, sab...  \n",
       "67  [wooohhhh, shelter, harm, kept, warm, kept, wa...  "
      ]
     },
     "execution_count": 63,
     "metadata": {},
     "output_type": "execute_result"
    }
   ],
   "source": [
    "songs_df.nlargest(5, 'neutral_sentiment')"
   ]
  }
 ],
 "metadata": {
  "kernelspec": {
   "display_name": "Python 3",
   "language": "python",
   "name": "python3"
  },
  "language_info": {
   "codemirror_mode": {
    "name": "ipython",
    "version": 3
   },
   "file_extension": ".py",
   "mimetype": "text/x-python",
   "name": "python",
   "nbconvert_exporter": "python",
   "pygments_lexer": "ipython3",
   "version": "3.5.2"
  }
 },
 "nbformat": 4,
 "nbformat_minor": 2
}
